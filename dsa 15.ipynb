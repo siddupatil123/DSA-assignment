{
 "cells": [
  {
   "cell_type": "markdown",
   "id": "f2a14278",
   "metadata": {},
   "source": [
    "Question no.1 :-\n",
    "Given an array arr[ ] of size N having elements, the task is to find the next greater element for each element of the array in order of their appearance in the array.Next greater element of an element in the array is the nearest element on the right which is greater than the current element.If there does not exist next greater of current element, then next greater element for current element is -1. For example, next greater of the last element is always -1.\n",
    "\n",
    "Example 1:\n",
    "\n",
    "Input:\n",
    "\n",
    "N = 4, arr[] = [1 3 2 4]\n",
    "\n",
    "Output:\n",
    "\n",
    "3 4 4 -1 Explanation:\n",
    "\n",
    "In the array, the next larger element to 1 is 3 , 3 is 4 , 2 is 4 and for 4 ? since it doesn't exist, it is -1."
   ]
  },
  {
   "cell_type": "code",
   "execution_count": 1,
   "id": "ba049fd6",
   "metadata": {},
   "outputs": [
    {
     "name": "stdout",
     "output_type": "stream",
     "text": [
      "[3, 4, 4, -1]\n"
     ]
    }
   ],
   "source": [
    "class Nxt_gtr_ele:\n",
    "    def gtr_ele(self,arr,N):\n",
    "        l = []\n",
    "        res = [0]*N\n",
    "        l.append(0)\n",
    "\n",
    "        for i in range(1,N):\n",
    "            while l and arr[l[-1]] <= arr[i]:\n",
    "                res[l[-1]] = arr[i]\n",
    "                l.pop()\n",
    "            l.append(i)\n",
    "\n",
    "        while l:\n",
    "            res[l[-1]] = -1\n",
    "            l.pop()\n",
    "\n",
    "        return res\n",
    "\n",
    "\n",
    "obj = Nxt_gtr_ele()\n",
    "arr = [1,3,2,4]\n",
    "N = 4\n",
    "print(obj.gtr_ele(arr,N))"
   ]
  },
  {
   "cell_type": "code",
   "execution_count": null,
   "id": "b155069d",
   "metadata": {},
   "outputs": [],
   "source": [
    "Question no.2 :-\n",
    "Given an array a of integers of length n, find the nearest smaller number for every element such that the smaller element is on left side.If no small element present on the left print -1.\n",
    "\n",
    "Example 1:\n",
    "\n",
    "Input: n = 3\n",
    "\n",
    "a = {1, 6, 2}\n",
    "\n",
    "Output: -1 1 1\n",
    "\n",
    "Explaination: There is no number at the left of 1. Smaller number than 6 and 2 is 1."
   ]
  },
  {
   "cell_type": "code",
   "execution_count": 2,
   "id": "ab6b600d",
   "metadata": {},
   "outputs": [
    {
     "name": "stdout",
     "output_type": "stream",
     "text": [
      "[-1, 1, 1]\n"
     ]
    }
   ],
   "source": [
    "\n",
    "def find_nearest_smaller_numbers(n, a):\n",
    "    stack = []\n",
    "    result = []\n",
    "\n",
    "    for i in range(n):\n",
    "        while stack and stack[-1] >= a[i]:\n",
    "            stack.pop()\n",
    "\n",
    "        if not stack:\n",
    "            result.append(-1)\n",
    "        else:\n",
    "            result.append(stack[-1])\n",
    "\n",
    "        stack.append(a[i])\n",
    "\n",
    "    return result\n",
    "\n",
    "\n",
    "n = 3\n",
    "a = [1, 6, 2]\n",
    "\n",
    "result = find_nearest_smaller_numbers(n, a)\n",
    "print(result)\n"
   ]
  },
  {
   "cell_type": "code",
   "execution_count": null,
   "id": "ff230da4",
   "metadata": {},
   "outputs": [],
   "source": [
    "Question no.3 :- Implement a Stack using two queues q1 and q2.\n",
    "\n",
    "Example 1:\n",
    "\n",
    "Input:\n",
    "\n",
    "push(2)\n",
    "\n",
    "push(3)\n",
    "\n",
    "pop()\n",
    "\n",
    "push(4)\n",
    "\n",
    "pop()\n",
    "\n",
    "Output:3 4\n",
    "\n",
    "Explanation:\n",
    "\n",
    "push(2) the stack will be {2}\n",
    "\n",
    "push(3) the stack will be {2 3}\n",
    "\n",
    "pop() poped element will be 3 the stack will be {2}\n",
    "\n",
    "push(4) the stack will be {2 4}\n",
    "\n",
    "pop() poped element will be 4"
   ]
  },
  {
   "cell_type": "code",
   "execution_count": 3,
   "id": "b6498d6a",
   "metadata": {},
   "outputs": [
    {
     "name": "stdout",
     "output_type": "stream",
     "text": [
      "3\n",
      "4\n"
     ]
    }
   ],
   "source": [
    "class Stack:\n",
    "    def __init__(self):\n",
    "        self.q1 = []\n",
    "        self.q2 = []\n",
    "\n",
    "    def push(self, value):\n",
    "        self.q2.append(value)\n",
    "        while self.q1:\n",
    "            self.q2.append(self.q1.pop(0))\n",
    "        self.q1, self.q2 = self.q2, self.q1\n",
    "\n",
    "    def pop(self):\n",
    "        if not self.q1:\n",
    "            return None\n",
    "        return self.q1.pop(0)\n",
    "\n",
    "stack = Stack()\n",
    "\n",
    "stack.push(2)\n",
    "stack.push(3)\n",
    "print(stack.pop())\n",
    "stack.push(4)\n",
    "print(stack.pop())"
   ]
  },
  {
   "cell_type": "code",
   "execution_count": null,
   "id": "4295cfbc",
   "metadata": {},
   "outputs": [],
   "source": [
    "Question no.4 :-\n",
    "You are given a stack St. You have to reverse the stack using recursion.\n",
    "\n",
    "Example 1:\n",
    "\n",
    "Input:St = {3,2,1,7,6}\n",
    "\n",
    "Output:{6,7,1,2,3}"
   ]
  },
  {
   "cell_type": "code",
   "execution_count": 4,
   "id": "dbbf2bf0",
   "metadata": {},
   "outputs": [
    {
     "name": "stdout",
     "output_type": "stream",
     "text": [
      "[6, 7, 1, 2, 3]\n"
     ]
    }
   ],
   "source": [
    "\n",
    "def reverse_stack(st):\n",
    "    if len(st) <= 1:\n",
    "        return\n",
    "\n",
    "    top_element = st.pop()\n",
    "    reverse_stack(st)\n",
    "    insert_at_bottom(st, top_element)\n",
    "\n",
    "def insert_at_bottom(st, element):\n",
    "    if len(st) == 0:\n",
    "        st.append(element)\n",
    "        return\n",
    "\n",
    "    top = st.pop()\n",
    "    insert_at_bottom(st, element)\n",
    "    st.append(top)\n",
    "\n",
    "\n",
    "stack = [3, 2, 1, 7, 6]\n",
    "reverse_stack(stack)\n",
    "print(stack)\n"
   ]
  },
  {
   "cell_type": "code",
   "execution_count": null,
   "id": "4b222f92",
   "metadata": {},
   "outputs": [],
   "source": [
    "Question no.5 :-\n",
    "You are given a string S, the task is to reverse the string using stack.\n",
    "\n",
    "Example 1:\n",
    "\n",
    "Input: S=\"GeeksforGeeks\"\n",
    "\n",
    "Output: skeeGrofskeeG"
   ]
  },
  {
   "cell_type": "code",
   "execution_count": 5,
   "id": "ac1cb560",
   "metadata": {},
   "outputs": [
    {
     "name": "stdout",
     "output_type": "stream",
     "text": [
      "skeeGrofskeeG\n"
     ]
    }
   ],
   "source": [
    "\n",
    "def reverse_string(S):\n",
    "    stack = []\n",
    "    for char in S:\n",
    "        stack.append(char)\n",
    "\n",
    "    reversed_string = ''\n",
    "    while stack:\n",
    "        reversed_string += stack.pop()\n",
    "\n",
    "    return reversed_string\n",
    "\n",
    "\n",
    "S = \"GeeksforGeeks\"\n",
    "reversed_str = reverse_string(S)\n",
    "print(reversed_str)"
   ]
  },
  {
   "cell_type": "code",
   "execution_count": null,
   "id": "9983bd6b",
   "metadata": {},
   "outputs": [],
   "source": [
    "Question no.6 :-\n",
    "Given string S representing a postfix expression, the task is to evaluate the expression and find the final value. Operators will only include the basic arithmetic operators like *, /, + and -.\n",
    "\n",
    "Example 1:\n",
    "\n",
    "Input: S = \"231*+9-\"\n",
    "\n",
    "Output: -4\n",
    "\n",
    "Explanation:\n",
    "\n",
    "After solving the given expression, we have -4 as result."
   ]
  },
  {
   "cell_type": "code",
   "execution_count": 6,
   "id": "91219a7c",
   "metadata": {},
   "outputs": [
    {
     "name": "stdout",
     "output_type": "stream",
     "text": [
      "-4\n"
     ]
    }
   ],
   "source": [
    "\n",
    "def evaluate_postfix_expression(S):\n",
    "    stack = []\n",
    "\n",
    "    for char in S:\n",
    "        if char.isdigit():\n",
    "            stack.append(int(char))\n",
    "        else:\n",
    "            operand2 = stack.pop()\n",
    "            operand1 = stack.pop()\n",
    "\n",
    "            if char == '*':\n",
    "                result = operand1 * operand2\n",
    "            elif char == '/':\n",
    "                result = operand1 / operand2\n",
    "            elif char == '+':\n",
    "                result = operand1 + operand2\n",
    "            elif char == '-':\n",
    "                result = operand1 - operand2\n",
    "\n",
    "            stack.append(result)\n",
    "\n",
    "    return stack.pop()\n",
    "\n",
    "\n",
    "S = \"231*+9-\"\n",
    "result = evaluate_postfix_expression(S)\n",
    "print(result)\n"
   ]
  },
  {
   "cell_type": "code",
   "execution_count": null,
   "id": "8ca0ef6c",
   "metadata": {},
   "outputs": [],
   "source": [
    "Question no.7 :-\n",
    "Design a stack that supports push, pop, top, and retrieving the minimum element in constant time.\n",
    "\n",
    "Implement the MinStack class:\n",
    "\n",
    "MinStack() initializes the stack object. void push(int val) pushes the element val onto the stack. void pop() removes the element on the top of the stack. int top() gets the top element of the stack. int getMin() retrieves the minimum element in the stack. You must implement a solution with O(1) time complexity for each function."
   ]
  },
  {
   "cell_type": "code",
   "execution_count": 7,
   "id": "3a37c06f",
   "metadata": {},
   "outputs": [
    {
     "name": "stdout",
     "output_type": "stream",
     "text": [
      "-3\n",
      "0\n",
      "-2\n"
     ]
    }
   ],
   "source": [
    "class MinStack:\n",
    "    def __init__(self):\n",
    "        self.stack = []\n",
    "        self.min_stack = []\n",
    "\n",
    "    def push(self, val):\n",
    "        self.stack.append(val)\n",
    "        if not self.min_stack or val <= self.min_stack[-1]:\n",
    "            self.min_stack.append(val)\n",
    "\n",
    "    def pop(self):\n",
    "        if self.stack.pop() == self.min_stack[-1]:\n",
    "            self.min_stack.pop()\n",
    "\n",
    "    def top(self):\n",
    "        return self.stack[-1]\n",
    "\n",
    "    def getMin(self):\n",
    "        return self.min_stack[-1]\n",
    "\n",
    "minStack = MinStack()\n",
    "minStack.push(-2)\n",
    "minStack.push(0)\n",
    "minStack.push(-3)\n",
    "print(minStack.getMin())\n",
    "minStack.pop()\n",
    "print(minStack.top())\n",
    "print(minStack.getMin())"
   ]
  },
  {
   "cell_type": "code",
   "execution_count": null,
   "id": "b1da4aa8",
   "metadata": {},
   "outputs": [],
   "source": [
    "Question no.8 :-\n",
    "Given n non-negative integers representing an elevation map where the width of each bar is 1, compute how much water it can trap after raining.\n",
    "\n",
    "Example 1:\n",
    "\n",
    "Input: height = [0,1,0,2,1,0,1,3,2,1,2,1]\n",
    "\n",
    "Output: 6\n",
    "\n",
    "Explanation: The above elevation map (black section) is represented by array [0,1,0,2,1,0,1,3,2,1,2,1]. In this case, 6 units of rain water (blue section) are being trapped."
   ]
  },
  {
   "cell_type": "code",
   "execution_count": 8,
   "id": "055186fe",
   "metadata": {},
   "outputs": [
    {
     "name": "stdout",
     "output_type": "stream",
     "text": [
      "6\n"
     ]
    }
   ],
   "source": [
    "def maxWater(arr, n):\n",
    "    res = 0\n",
    "\n",
    "    for i in range(1, n - 1):\n",
    "\n",
    "        left = arr[i]\n",
    "        for j in range(i):\n",
    "            left = max(left, arr[j])\n",
    "\n",
    "        right = arr[i]\n",
    "\n",
    "        for j in range(i + 1, n):\n",
    "            right = max(right, arr[j])\n",
    "\n",
    "        res = res + (min(left, right) - arr[i])\n",
    "\n",
    "    return res\n",
    "\n",
    "\n",
    "\n",
    "arr = [0,1,0,2,1,0,1,3,2,1,2,1]\n",
    "n = len(arr)\n",
    "print(maxWater(arr, n))"
   ]
  },
  {
   "cell_type": "code",
   "execution_count": null,
   "id": "57f6f0ba",
   "metadata": {},
   "outputs": [],
   "source": []
  },
  {
   "cell_type": "code",
   "execution_count": null,
   "id": "4b26e37d",
   "metadata": {},
   "outputs": [],
   "source": []
  },
  {
   "cell_type": "code",
   "execution_count": null,
   "id": "13cdb88b",
   "metadata": {},
   "outputs": [],
   "source": []
  },
  {
   "cell_type": "code",
   "execution_count": null,
   "id": "ef3c91ad",
   "metadata": {},
   "outputs": [],
   "source": []
  },
  {
   "cell_type": "code",
   "execution_count": null,
   "id": "22abbebc",
   "metadata": {},
   "outputs": [],
   "source": []
  },
  {
   "cell_type": "code",
   "execution_count": null,
   "id": "b277b475",
   "metadata": {},
   "outputs": [],
   "source": []
  },
  {
   "cell_type": "code",
   "execution_count": null,
   "id": "afea19af",
   "metadata": {},
   "outputs": [],
   "source": []
  }
 ],
 "metadata": {
  "kernelspec": {
   "display_name": "Python 3 (ipykernel)",
   "language": "python",
   "name": "python3"
  },
  "language_info": {
   "codemirror_mode": {
    "name": "ipython",
    "version": 3
   },
   "file_extension": ".py",
   "mimetype": "text/x-python",
   "name": "python",
   "nbconvert_exporter": "python",
   "pygments_lexer": "ipython3",
   "version": "3.11.0"
  }
 },
 "nbformat": 4,
 "nbformat_minor": 5
}
