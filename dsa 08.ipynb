{
 "cells": [
  {
   "cell_type": "code",
   "execution_count": null,
   "id": "83fd7b63",
   "metadata": {},
   "outputs": [],
   "source": [
    "<aside>\n",
    "💡 **Question 1**\n",
    "\n",
    "Given two strings s1 and s2, return *the lowest **ASCII** sum of deleted characters to make two strings equal*.\n",
    "\n",
    "</aside>"
   ]
  },
  {
   "cell_type": "code",
   "execution_count": 1,
   "id": "595bda2b",
   "metadata": {},
   "outputs": [],
   "source": [
    "def minimumDeleteSum(s1, s2):\n",
    "    m, n = len(s1), len(s2)\n",
    "    dp = [[0] * (n + 1) for _ in range(m + 1)]\n",
    "\n",
    "    for i in range(1, m + 1):\n",
    "        for j in range(1, n + 1):\n",
    "            if s1[i - 1] == s2[j - 1]:\n",
    "                dp[i][j] = dp[i - 1][j - 1] + ord(s1[i - 1])\n",
    "            else:\n",
    "                dp[i][j] = max(dp[i - 1][j], dp[i][j - 1])\n",
    "\n",
    "    ascii_sum = sum(ord(ch) for ch in s1 + s2)\n",
    "    return ascii_sum - 2 * dp[m][n]\n"
   ]
  },
  {
   "cell_type": "code",
   "execution_count": 2,
   "id": "9db94b43",
   "metadata": {},
   "outputs": [
    {
     "data": {
      "text/plain": [
       "231"
      ]
     },
     "execution_count": 2,
     "metadata": {},
     "output_type": "execute_result"
    }
   ],
   "source": [
    "minimumDeleteSum(\"sea\",\"eat\")"
   ]
  },
  {
   "cell_type": "code",
   "execution_count": null,
   "id": "f1e30fe0",
   "metadata": {},
   "outputs": [],
   "source": [
    "<aside>\n",
    "💡 **Question 2**\n",
    "\n",
    "Given a string s containing only three types of characters: '(', ')' and '*', return true *if* s *is **valid***.\n",
    "\n",
    "The following rules define a **valid** string:\n",
    "\n",
    "- Any left parenthesis '(' must have a corresponding right parenthesis ')'.\n",
    "- Any right parenthesis ')' must have a corresponding left parenthesis '('.\n",
    "- Left parenthesis '(' must go before the corresponding right parenthesis ')'.\n",
    "- '*' could be treated as a single right parenthesis ')' or a single left parenthesis '(' or an empty string\n",
    "</aside>"
   ]
  },
  {
   "cell_type": "code",
   "execution_count": 3,
   "id": "eac278ae",
   "metadata": {},
   "outputs": [],
   "source": [
    "def isValid(s):\n",
    "    stack = []\n",
    "    \n",
    "    for ch in s:\n",
    "        if ch == '(' or ch == '*':\n",
    "            stack.append(ch)\n",
    "        elif ch == ')':\n",
    "            if stack:\n",
    "                stack.pop()\n",
    "            elif '*' in stack:\n",
    "                stack.remove('*')\n",
    "            else:\n",
    "                return False\n",
    "    \n",
    "    while stack:\n",
    "        if stack[-1] == '(':\n",
    "            if '*' in stack:\n",
    "                stack.pop()\n",
    "                stack.remove('*')\n",
    "            else:\n",
    "                return False\n",
    "        else:\n",
    "            stack.pop()\n",
    "    \n",
    "    return True\n"
   ]
  },
  {
   "cell_type": "code",
   "execution_count": 4,
   "id": "a07e425f",
   "metadata": {},
   "outputs": [
    {
     "data": {
      "text/plain": [
       "True"
      ]
     },
     "execution_count": 4,
     "metadata": {},
     "output_type": "execute_result"
    }
   ],
   "source": [
    "isValid(\"0\")"
   ]
  },
  {
   "cell_type": "code",
   "execution_count": null,
   "id": "77ccd57b",
   "metadata": {},
   "outputs": [],
   "source": [
    "<aside>\n",
    "💡 **Question 3**\n",
    "\n",
    "Given two strings word1 and word2, return *the minimum number of **steps** required to make* word1 *and* word2 *the same*.\n",
    "\n",
    "In one **step**, you can delete exactly one character in either string.\n",
    "\n",
    "</aside>"
   ]
  },
  {
   "cell_type": "code",
   "execution_count": 5,
   "id": "1a174506",
   "metadata": {},
   "outputs": [],
   "source": [
    "def minSteps(word1, word2):\n",
    "    m, n = len(word1), len(word2)\n",
    "    dp = [[0] * (n + 1) for _ in range(m + 1)]\n",
    "\n",
    "    for i in range(1, m + 1):\n",
    "        for j in range(1, n + 1):\n",
    "            if word1[i - 1] == word2[j - 1]:\n",
    "                dp[i][j] = dp[i - 1][j - 1] + 1\n",
    "            else:\n",
    "                dp[i][j] = max(dp[i - 1][j], dp[i][j - 1])\n",
    "\n",
    "    steps = m + n - 2 * dp[m][n]\n",
    "    return steps\n"
   ]
  },
  {
   "cell_type": "code",
   "execution_count": 6,
   "id": "3f26dc33",
   "metadata": {},
   "outputs": [
    {
     "data": {
      "text/plain": [
       "2"
      ]
     },
     "execution_count": 6,
     "metadata": {},
     "output_type": "execute_result"
    }
   ],
   "source": [
    " minSteps(\"sea\",\"eat\")"
   ]
  },
  {
   "cell_type": "code",
   "execution_count": null,
   "id": "93f32bba",
   "metadata": {},
   "outputs": [],
   "source": [
    "<aside>\n",
    "💡 **Question 4**\n",
    "\n",
    "You need to construct a binary tree from a string consisting of parenthesis and integers.\n",
    "\n",
    "The whole input represents a binary tree. It contains an integer followed by zero, one or two pairs of parenthesis. The integer represents the root's value and a pair of parenthesis contains a child binary tree with the same structure.\n",
    "You always start to construct the **left** child node of the parent first if it exists.\n",
    "\n",
    "</aside>"
   ]
  },
  {
   "cell_type": "code",
   "execution_count": 7,
   "id": "2a3046ba",
   "metadata": {},
   "outputs": [],
   "source": [
    "class TreeNode:\n",
    "    def __init__(self, val=0, left=None, right=None):\n",
    "        self.val = val\n",
    "        self.left = left\n",
    "        self.right = right\n",
    "\n",
    "\n",
    "def str2tree(s):\n",
    "    def constructTree(s, start):\n",
    "        num = ''\n",
    "        index = start\n",
    "\n",
    "        while index < len(s) and s[index] != '(' and s[index] != ')':\n",
    "            num += s[index]\n",
    "            index += 1\n",
    "\n",
    "        node = TreeNode(int(num))\n",
    "        \n",
    "        if index < len(s) and s[index] == '(':\n",
    "            left_node, index = constructTree(s, index + 1)\n",
    "            node.left = left_node\n",
    "\n",
    "        if index < len(s) and s[index] == '(':\n",
    "            right_node, index = constructTree(s, index + 1)\n",
    "            node.right = right_node\n",
    "\n",
    "        index += 1  # Skip the closing parenthesis ')'\n",
    "\n",
    "        return node, index\n",
    "\n",
    "    if not s:\n",
    "        return None\n",
    "\n",
    "    return constructTree(s, 0)[0]\n"
   ]
  },
  {
   "cell_type": "code",
   "execution_count": null,
   "id": "6908171d",
   "metadata": {},
   "outputs": [],
   "source": [
    "<aside>\n",
    "💡 **Question 5**\n",
    "\n",
    "Given an array of characters chars, compress it using the following algorithm:\n",
    "\n",
    "Begin with an empty string s. For each group of **consecutive repeating characters** in chars:\n",
    "\n",
    "- If the group's length is 1, append the character to s.\n",
    "- Otherwise, append the character followed by the group's length.\n",
    "\n",
    "The compressed string s **should not be returned separately**, but instead, be stored **in the input character array chars**. Note that group lengths that are 10 or longer will be split into multiple characters in chars.\n",
    "\n",
    "After you are done **modifying the input array,** return *the new length of the array*.\n",
    "\n",
    "You must write an algorithm that uses only constant extra space.\n",
    "\n",
    "</aside>"
   ]
  },
  {
   "cell_type": "code",
   "execution_count": 11,
   "id": "493d7386",
   "metadata": {},
   "outputs": [],
   "source": [
    "def compress(chars):\n",
    "    write = 0\n",
    "    read = 0\n",
    "    count = 1\n",
    "\n",
    "    for i in range(1, len(chars)):\n",
    "        if chars[i] == chars[i - 1]:\n",
    "            count += 1\n",
    "        else:\n",
    "            chars[write] = chars[i - 1]\n",
    "            write += 1\n",
    "\n",
    "            if count > 1:\n",
    "                count_str = str(count)\n",
    "                for digit in count_str:\n",
    "                    chars[write] = digit\n",
    "                    write += 1\n",
    "            count = 1\n",
    "\n",
    "        read += 1\n",
    "\n",
    "    chars[write] = chars[-1]\n",
    "    write += 1\n",
    "\n",
    "    if count > 1:\n",
    "        count_str = str(count)\n",
    "        for digit in count_str:\n",
    "            chars[write] = digit\n",
    "            write += 1\n",
    "\n",
    "    return write\n"
   ]
  },
  {
   "cell_type": "code",
   "execution_count": 12,
   "id": "61ab1b0b",
   "metadata": {},
   "outputs": [
    {
     "data": {
      "text/plain": [
       "6"
      ]
     },
     "execution_count": 12,
     "metadata": {},
     "output_type": "execute_result"
    }
   ],
   "source": [
    " compress([\"a\",\"a\",\"b\",\"b\",\"c\",\"c\",\"c\"])"
   ]
  },
  {
   "cell_type": "code",
   "execution_count": null,
   "id": "1772cc6f",
   "metadata": {},
   "outputs": [],
   "source": [
    "<aside>\n",
    "💡 **Question 6**\n",
    "\n",
    "Given two strings s and p, return *an array of all the start indices of* p*'s anagrams in* s. You may return the answer in **any order**.\n",
    "\n",
    "An **Anagram** is a word or phrase formed by rearranging the letters of a different word or phrase, typically using all the original letters exactly once.\n",
    "\n",
    "</aside>"
   ]
  },
  {
   "cell_type": "code",
   "execution_count": 13,
   "id": "3a93ebf7",
   "metadata": {},
   "outputs": [],
   "source": [
    "from collections import defaultdict\n",
    "\n",
    "def findAnagrams(s, p):\n",
    "    result = []\n",
    "    p_freq = defaultdict(int)\n",
    "    window_freq = defaultdict(int)\n",
    "    left = 0\n",
    "    right = 0\n",
    "    matched = 0\n",
    "\n",
    "    for char in p:\n",
    "        p_freq[char] += 1\n",
    "\n",
    "    while right < len(s):\n",
    "        if s[right] in p_freq:\n",
    "            window_freq[s[right]] += 1\n",
    "            if window_freq[s[right]] == p_freq[s[right]]:\n",
    "                matched += 1\n",
    "\n",
    "        if right - left + 1 == len(p):\n",
    "            if matched == len(p_freq):\n",
    "                result.append(left)\n",
    "\n",
    "            if s[left] in p_freq:\n",
    "                window_freq[s[left]] -= 1\n",
    "                if window_freq[s[left]] == 0:\n",
    "                    del window_freq[s[left]]\n",
    "                if window_freq[s[left]] < p_freq[s[left]]:\n",
    "                    matched -= 1\n",
    "\n",
    "            left += 1\n",
    "\n",
    "        right += 1\n",
    "\n",
    "    return result\n"
   ]
  },
  {
   "cell_type": "code",
   "execution_count": 14,
   "id": "a30feda0",
   "metadata": {},
   "outputs": [
    {
     "data": {
      "text/plain": [
       "[0, 6]"
      ]
     },
     "execution_count": 14,
     "metadata": {},
     "output_type": "execute_result"
    }
   ],
   "source": [
    "findAnagrams(\"cbaebabacd\",\"abc\")"
   ]
  },
  {
   "cell_type": "code",
   "execution_count": null,
   "id": "d882a31c",
   "metadata": {},
   "outputs": [],
   "source": [
    "<aside>\n",
    "💡 **Question 7**\n",
    "\n",
    "Given an encoded string, return its decoded string.\n",
    "\n",
    "The encoding rule is: k[encoded_string], where the encoded_string inside the square brackets is being repeated exactly k times. Note that k is guaranteed to be a positive integer.\n",
    "\n",
    "You may assume that the input string is always valid; there are no extra white spaces, square brackets are well-formed, etc. Furthermore, you may assume that the original data does not contain any digits and that digits are only for those repeat numbers, k. For example, there will not be input like 3a or 2[4].\n",
    "\n",
    "The test cases are generated so that the length of the output will never exceed 105.\n",
    "\n",
    "</aside>"
   ]
  },
  {
   "cell_type": "code",
   "execution_count": 15,
   "id": "2813a917",
   "metadata": {},
   "outputs": [],
   "source": [
    "def decodeString(s):\n",
    "    stack = []\n",
    "    count = \"\"\n",
    "    current_string = \"\"\n",
    "\n",
    "    for c in s:\n",
    "        if c.isdigit():\n",
    "            count += c\n",
    "        elif c == \"[\":\n",
    "            stack.append((int(count), current_string))\n",
    "            count = \"\"\n",
    "            current_string = \"\"\n",
    "        elif c == \"]\":\n",
    "            prev_count, prev_string = stack.pop()\n",
    "            current_string = prev_string + prev_count * current_string\n",
    "        else:\n",
    "            current_string += c\n",
    "\n",
    "    return current_string\n"
   ]
  },
  {
   "cell_type": "code",
   "execution_count": 16,
   "id": "63a0dcd4",
   "metadata": {},
   "outputs": [
    {
     "data": {
      "text/plain": [
       "'aaabcbc'"
      ]
     },
     "execution_count": 16,
     "metadata": {},
     "output_type": "execute_result"
    }
   ],
   "source": [
    " decodeString(\"3[a]2[bc]\")"
   ]
  },
  {
   "cell_type": "code",
   "execution_count": null,
   "id": "a5a3b5f9",
   "metadata": {},
   "outputs": [],
   "source": [
    "<aside>\n",
    "💡 **Question 8**\n",
    "\n",
    "Given two strings s and goal, return true *if you can swap two letters in* s *so the result is equal to* goal*, otherwise, return* false*.*\n",
    "\n",
    "Swapping letters is defined as taking two indices i and j (0-indexed) such that i != j and swapping the characters at s[i] and s[j].\n",
    "\n",
    "- For example, swapping at indices 0 and 2 in \"abcd\" results in \"cbad\".\n",
    "</aside>"
   ]
  },
  {
   "cell_type": "code",
   "execution_count": 17,
   "id": "d591b504",
   "metadata": {},
   "outputs": [],
   "source": [
    "def buddyStrings(s, goal):\n",
    "    if len(s) != len(goal):\n",
    "        return False\n",
    "\n",
    "    diff_indices = []\n",
    "    for i in range(len(s)):\n",
    "        if s[i] != goal[i]:\n",
    "            diff_indices.append(i)\n",
    "\n",
    "    if len(diff_indices) != 2:\n",
    "        return False\n",
    "\n",
    "    i, j = diff_indices\n",
    "    if s[i] == goal[j] and s[j] == goal[i]:\n",
    "        return True\n",
    "\n",
    "    return False\n"
   ]
  },
  {
   "cell_type": "code",
   "execution_count": 18,
   "id": "d33f1f69",
   "metadata": {},
   "outputs": [
    {
     "data": {
      "text/plain": [
       "True"
      ]
     },
     "execution_count": 18,
     "metadata": {},
     "output_type": "execute_result"
    }
   ],
   "source": [
    "buddyStrings(\"ab\",\"ba\")"
   ]
  },
  {
   "cell_type": "code",
   "execution_count": null,
   "id": "5116454a",
   "metadata": {},
   "outputs": [],
   "source": []
  },
  {
   "cell_type": "code",
   "execution_count": null,
   "id": "868b7a59",
   "metadata": {},
   "outputs": [],
   "source": []
  },
  {
   "cell_type": "code",
   "execution_count": null,
   "id": "a0c32e96",
   "metadata": {},
   "outputs": [],
   "source": []
  }
 ],
 "metadata": {
  "kernelspec": {
   "display_name": "Python 3 (ipykernel)",
   "language": "python",
   "name": "python3"
  },
  "language_info": {
   "codemirror_mode": {
    "name": "ipython",
    "version": 3
   },
   "file_extension": ".py",
   "mimetype": "text/x-python",
   "name": "python",
   "nbconvert_exporter": "python",
   "pygments_lexer": "ipython3",
   "version": "3.11.0"
  }
 },
 "nbformat": 4,
 "nbformat_minor": 5
}
