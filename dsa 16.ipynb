{
 "cells": [
  {
   "cell_type": "markdown",
   "id": "c014235f",
   "metadata": {},
   "source": [
    "Question 1\n",
    "Given an array, for each element find the value of the nearest element to the right which is having a frequency greater than that of the current element. If there does not exist an answer for a position, then make the value ‘-1’.\n",
    "\n",
    "Examples:\n",
    "\n",
    "Input: a[] = [1, 1, 2, 3, 4, 2, 1] Output : [-1, -1, 1, 2, 2, 1, -1]\n",
    "\n",
    "Explanation: Given array a[] = [1, 1, 2, 3, 4, 2, 1] Frequency of each element is: 3, 3, 2, 1, 1, 2, 3\n",
    "\n",
    "Lets calls Next Greater Frequency element as NGF\n",
    "\n",
    "For element a[0] = 1 which has a frequency = 3, As it has frequency of 3 and no other next element has frequency more than 3 so '-1'\n",
    "For element a[1] = 1 it will be -1 same logic like a[0]\n",
    "For element a[2] = 2 which has frequency = 2, NGF element is 1 at position = 6 with frequency of 3 > 2\n",
    "For element a[3] = 3 which has frequency = 1, NGF element is 2 at position = 5 with frequency of 2 > 1\n",
    "For element a[4] = 4 which has frequency = 1, NGF element is 2 at position = 5 with frequency of 2 > 1\n",
    "For element a[5] = 2 which has frequency = 2, NGF element is 1 at position = 6 with frequency of 3 > 2\n",
    "For element a[6] = 1 there is no element to its right, hence -1"
   ]
  },
  {
   "cell_type": "code",
   "execution_count": 1,
   "id": "e6c5d182",
   "metadata": {},
   "outputs": [
    {
     "name": "stdout",
     "output_type": "stream",
     "text": [
      "[-1, -1, -1, -1, -1, -1, -1]\n"
     ]
    }
   ],
   "source": [
    "\n",
    "def find_nearest_greater_frequency(arr):\n",
    "    frequency = {}\n",
    "    stack = []\n",
    "    result = [-1] * len(arr)\n",
    "\n",
    "    for i in range(len(arr)-1, -1, -1):\n",
    "        frequency[arr[i]] = frequency.get(arr[i], 0) + 1\n",
    "\n",
    "        while stack and frequency[arr[stack[-1]]] <= frequency[arr[i]]:\n",
    "            stack.pop()\n",
    "\n",
    "        if stack:\n",
    "            result[i] = arr[stack[-1]]\n",
    "\n",
    "        stack.append(i)\n",
    "\n",
    "    return result\n",
    "\n",
    "\n",
    "arr = [1, 1, 2, 3, 4, 2, 1]\n",
    "result = find_nearest_greater_frequency(arr)\n",
    "print(result)"
   ]
  },
  {
   "cell_type": "markdown",
   "id": "93c07f90",
   "metadata": {},
   "source": [
    "Question no.2 :-\n",
    "Given a stack of integers, sort it in ascending order using another temporary stack.\n",
    "\n",
    "Examples:\n",
    "\n",
    "Input : [34, 3, 31, 98, 92, 23]\n",
    "\n",
    "Output : [3, 23, 31, 34, 92, 98]\n",
    "\n",
    "Input : [3, 5, 1, 4, 2, 8]\n",
    "\n",
    "Output : [1, 2, 3, 4, 5, 8]"
   ]
  },
  {
   "cell_type": "code",
   "execution_count": 2,
   "id": "774452a3",
   "metadata": {},
   "outputs": [
    {
     "name": "stdout",
     "output_type": "stream",
     "text": [
      "[3, 23, 31, 34, 92, 98]\n",
      "[1, 2, 3, 4, 5, 8]\n"
     ]
    }
   ],
   "source": [
    "\n",
    "def sort_stack(stack):\n",
    "    temp_stack = []\n",
    "\n",
    "    while stack:\n",
    "        temp = stack.pop()\n",
    "\n",
    "        while temp_stack and temp_stack[-1] < temp:\n",
    "            stack.append(temp_stack.pop())\n",
    "\n",
    "        temp_stack.append(temp)\n",
    "\n",
    "    return temp_stack[::-1]\n",
    "\n",
    "stack1 = [34, 3, 31, 98, 92, 23]\n",
    "sorted_stack1 = sort_stack(stack1)\n",
    "print(sorted_stack1)\n",
    "\n",
    "stack2 = [3, 5, 1, 4, 2, 8]\n",
    "sorted_stack2 = sort_stack(stack2)\n",
    "print(sorted_stack2)"
   ]
  },
  {
   "cell_type": "markdown",
   "id": "a333e804",
   "metadata": {},
   "source": [
    "Question no.3 :-\n",
    "Given a stack with push(), pop(), and empty() operations, The task is to delete the middle element of it without using any additional data structure.\n",
    "\n",
    "Input : Stack[] = [1, 2, 3, 4, 5]\n",
    "\n",
    "Output : Stack[] = [1, 2, 4, 5]\n",
    "\n",
    "Input : Stack[] = [1, 2, 3, 4, 5, 6]\n",
    "\n",
    "Output : Stack[] = [1, 2, 4, 5, 6]"
   ]
  },
  {
   "cell_type": "code",
   "execution_count": 3,
   "id": "bd0a0ce0",
   "metadata": {},
   "outputs": [
    {
     "name": "stdout",
     "output_type": "stream",
     "text": [
      "1 2 4 5 "
     ]
    }
   ],
   "source": [
    "\n",
    "def deleteMid(st):\n",
    "    n = len(st)\n",
    "    tempSt = []\n",
    "    count = 0\n",
    "\n",
    "    while (count < (n / 2)-1):\n",
    "        c = st[0]\n",
    "        st.pop(0)\n",
    "        tempSt.insert(0, c)\n",
    "        count = count+1\n",
    "\n",
    "    st.pop(0)\n",
    "\n",
    "    while (len(tempSt) != 0):\n",
    "        st.insert(0, tempSt[0])\n",
    "        tempSt.pop(0)\n",
    "\n",
    "\n",
    "st = []\n",
    "\n",
    "st.insert(0, 5)\n",
    "st.insert(0, 4)\n",
    "st.insert(0, 3)\n",
    "st.insert(0, 2)\n",
    "st.insert(0, 1)\n",
    "\n",
    "deleteMid(st)\n",
    "\n",
    "while (len(st) != 0):\n",
    "    p = st[0]\n",
    "    st.pop(0)\n",
    "    print(p, end = \" \")"
   ]
  },
  {
   "cell_type": "markdown",
   "id": "7293841f",
   "metadata": {},
   "source": [
    "Question no.4 :-\n",
    "Given a Queue consisting of first n natural numbers (in random order). The task is to check whether the given Queue elements can be arranged in increasing order in another Queue using a stack. The operation allowed are:\n",
    "\n",
    "Push and pop elements from the stack\n",
    "\n",
    "Pop (Or Dequeue) from the given Queue.\n",
    "\n",
    "Push (Or Enqueue) in the another Queue.\n",
    "\n",
    "Example :\n",
    "\n",
    "Input : Queue[] = { 5, 1, 2, 3, 4 }\n",
    "\n",
    "Output : Yes\n",
    "\n",
    "Pop the first element of the given Queue\n",
    "\n",
    "i.e 5. Push 5 into the stack.\n",
    "\n",
    "Now, pop all the elements of the given Queue and push them to second Queue.\n",
    "\n",
    "Now, pop element 5 in the stack and push it to the second Queue."
   ]
  },
  {
   "cell_type": "code",
   "execution_count": 4,
   "id": "4c96e547",
   "metadata": {},
   "outputs": [
    {
     "name": "stdout",
     "output_type": "stream",
     "text": [
      "Yes\n"
     ]
    }
   ],
   "source": [
    "\n",
    "from queue import Queue\n",
    "def check_sorted(n, q):\n",
    "    st = []\n",
    "    expected = 1\n",
    "    fnt = None\n",
    "\n",
    "    while (not q.empty()):\n",
    "        fnt = q.queue[0]\n",
    "        q.get()\n",
    "\n",
    "        if (fnt == expected):\n",
    "            expected += 1\n",
    "\n",
    "        else:\n",
    "\n",
    "            if (len(st) == 0):\n",
    "                st.append(fnt)\n",
    "\n",
    "            elif (len(st) != 0 and st[-1] < fnt):\n",
    "                return False\n",
    "\n",
    "            else:\n",
    "                st.append(fnt)\n",
    "\n",
    "        while (len(st) != 0 and\n",
    "                   st[-1] == expected):\n",
    "            st.pop()\n",
    "            expected += 1\n",
    "\n",
    "    if (expected - 1 == n and len(st) == 0):\n",
    "        return True\n",
    "\n",
    "    return False\n",
    "\n",
    "\n",
    "q = Queue()\n",
    "q.put(5)\n",
    "q.put(1)\n",
    "q.put(2)\n",
    "q.put(3)\n",
    "q.put(4)\n",
    "\n",
    "n = q.qsize()\n",
    "\n",
    "if check_sorted(n, q):\n",
    "    print(\"Yes\")\n",
    "else:\n",
    "    print(\"No\")"
   ]
  },
  {
   "cell_type": "code",
   "execution_count": null,
   "id": "c44407c3",
   "metadata": {},
   "outputs": [],
   "source": [
    "Question no.5 :-\n",
    "Given a number , write a program to reverse this number using stack.\n",
    "\n",
    "Examples:\n",
    "\n",
    "Input : 365\n",
    "\n",
    "Output : 563\n",
    "\n",
    "Input : 6899\n",
    "\n",
    "Output : 9986"
   ]
  },
  {
   "cell_type": "code",
   "execution_count": 5,
   "id": "a19f5547",
   "metadata": {},
   "outputs": [
    {
     "name": "stdout",
     "output_type": "stream",
     "text": [
      "754\n"
     ]
    }
   ],
   "source": [
    "st = []\n",
    "\n",
    "def push_digits(number):\n",
    "\n",
    "    while (number != 0):\n",
    "        st.append(number % 10)\n",
    "        number = int(number / 10)\n",
    "\n",
    "def reverse_number(number):\n",
    "\n",
    "    push_digits(number)\n",
    "\n",
    "    reverse = 0\n",
    "    i = 1\n",
    "\n",
    "    while (len(st) > 0):\n",
    "        reverse = reverse + (st[len(st) - 1] * i)\n",
    "        st.pop()\n",
    "        i = i * 10\n",
    "\n",
    "    return reverse\n",
    "\n",
    "number = 457\n",
    "\n",
    "print(reverse_number(number))"
   ]
  },
  {
   "cell_type": "code",
   "execution_count": null,
   "id": "d7e3d4f3",
   "metadata": {},
   "outputs": [],
   "source": [
    "Question no.6 :-\n",
    "Given an integer k and a queue of integers, The task is to reverse the order of the first k elements of the queue, leaving the other elements in the same relative order.\n",
    "\n",
    "Only following standard operations are allowed on queue.\n",
    "\n",
    "enqueue(x) : Add an item x to rear of queue\n",
    "\n",
    "dequeue() : Remove an item from front of queue\n",
    "\n",
    "size() : Returns number of elements in queue.\n",
    "\n",
    "front() : Finds front item."
   ]
  },
  {
   "cell_type": "code",
   "execution_count": 6,
   "id": "397495ce",
   "metadata": {},
   "outputs": [
    {
     "name": "stdout",
     "output_type": "stream",
     "text": [
      "5 4 3 2 1 6 7 8 9 "
     ]
    }
   ],
   "source": [
    "\n",
    "from collections import deque\n",
    "\n",
    "def reverse_first_k(q, k):\n",
    "    solve(q, k)\n",
    "    s = len(q) - k\n",
    "    for _ in range(s):\n",
    "        x = q.popleft()\n",
    "        q.append(x)\n",
    "    return q\n",
    "\n",
    "def solve(q, k):\n",
    "    if k == 0:\n",
    "        return\n",
    "    e = q.popleft()\n",
    "    solve(q, k - 1)\n",
    "    q.append(e)\n",
    "\n",
    "\n",
    "queue = deque([1,2,3,4,5,6,7,8,9])\n",
    "k = 5\n",
    "queue = reverse_first_k(queue, k)\n",
    "\n",
    "while queue:\n",
    "    print(queue.popleft(), end=' ')"
   ]
  },
  {
   "cell_type": "code",
   "execution_count": null,
   "id": "3872d7f8",
   "metadata": {},
   "outputs": [],
   "source": [
    "Question no.7 :-\n",
    "Given a sequence of n strings, the task is to check if any two similar words come together and then destroy each other then print the number of words left in the sequence after this pairwise destruction.\n",
    "\n",
    "Examples:\n",
    "\n",
    "Input : ab aa aa bcd ab\n",
    "\n",
    "Output : 3\n",
    "\n",
    "As aa, aa destroys each other so,\n",
    "\n",
    "ab bcd ab is the new sequence.\n",
    "\n",
    "Input : tom jerry jerry tom\n",
    "\n",
    "Output : 0\n",
    "\n",
    "As first both jerry will destroy each other.\n",
    "\n",
    "Then sequence will be tom, tom they will also destroy\n",
    "\n",
    "each other. So, the final sequence doesn’t contain any\n",
    "\n",
    "word."
   ]
  },
  {
   "cell_type": "code",
   "execution_count": 7,
   "id": "e23230d8",
   "metadata": {},
   "outputs": [
    {
     "name": "stdout",
     "output_type": "stream",
     "text": [
      "3\n"
     ]
    }
   ],
   "source": [
    "\n",
    "def count_words_after_destruction(sequence):\n",
    "    stack = []\n",
    "\n",
    "    for word in sequence:\n",
    "        if stack and stack[-1] == word:\n",
    "            stack.pop()\n",
    "        else:\n",
    "            stack.append(word)\n",
    "\n",
    "    return len(stack)\n",
    "\n",
    "sequence = ['ab', 'aa', 'aa', 'bcd', 'ab']\n",
    "\n",
    "result = count_words_after_destruction(sequence)\n",
    "print(result)"
   ]
  },
  {
   "cell_type": "code",
   "execution_count": null,
   "id": "28efd538",
   "metadata": {},
   "outputs": [],
   "source": [
    "Question no.8 :-\n",
    "Given an array of integers, the task is to find the maximum absolute difference between the nearest left and the right smaller element of every element in the array.\n",
    "\n",
    "Note: If there is no smaller element on right side or left side of any element then we take zero as the smaller element. For example for the leftmost element, the nearest smaller element on the left side is considered as 0. Similarly, for rightmost elements, the smaller element on the right side is considered as 0.\n",
    "\n",
    "Example :\n",
    "\n",
    "Input : arr[] = {2, 1, 8}\n",
    "\n",
    "Output : 1\n",
    "\n",
    "Left smaller LS[] {0, 0, 1}\n",
    "\n",
    "Right smaller RS[] {1, 0, 0}\n",
    "\n",
    "Maximum Diff of abs(LS[i] - RS[i]) = 1"
   ]
  },
  {
   "cell_type": "code",
   "execution_count": 9,
   "id": "779c0ada",
   "metadata": {},
   "outputs": [
    {
     "name": "stdout",
     "output_type": "stream",
     "text": [
      "1\n"
     ]
    }
   ],
   "source": [
    "\n",
    "def leftsmaller(arr, n, SE):\n",
    "    st = []\n",
    "\n",
    "    for i in range(n):\n",
    "\n",
    "        while(st != [] and st[len(st)-1] >= arr[i]):\n",
    "            st.pop()\n",
    "\n",
    "        if(st != []):\n",
    "            SE[i]=st[len(st)-1]\n",
    "\n",
    "        else:\n",
    "            SE[i]=0\n",
    "\n",
    "        st.append(arr[i])\n",
    "\n",
    "def findMaxDiff(arr, n):\n",
    "    ls=[0]*n\n",
    "    rs=[0]*n\n",
    "\n",
    "    leftsmaller(arr, n, ls)\n",
    "\n",
    "    leftsmaller(arr[::-1], n, rs)\n",
    "\n",
    "    res = -1\n",
    "    for i in range(n):\n",
    "        res = max(res, abs(ls[i] - rs[n-1-i]))\n",
    "\n",
    "    return res\n",
    "\n",
    "\n",
    "arr = [2, 1, 8]\n",
    "n = len(arr)\n",
    "print(findMaxDiff(arr, n))"
   ]
  },
  {
   "cell_type": "code",
   "execution_count": null,
   "id": "c938e637",
   "metadata": {},
   "outputs": [],
   "source": []
  },
  {
   "cell_type": "code",
   "execution_count": null,
   "id": "79c5d475",
   "metadata": {},
   "outputs": [],
   "source": []
  },
  {
   "cell_type": "code",
   "execution_count": null,
   "id": "a5ab485d",
   "metadata": {},
   "outputs": [],
   "source": []
  },
  {
   "cell_type": "code",
   "execution_count": null,
   "id": "a4d6c5be",
   "metadata": {},
   "outputs": [],
   "source": []
  },
  {
   "cell_type": "code",
   "execution_count": null,
   "id": "0cb46bf7",
   "metadata": {},
   "outputs": [],
   "source": []
  },
  {
   "cell_type": "code",
   "execution_count": null,
   "id": "ba69d905",
   "metadata": {},
   "outputs": [],
   "source": []
  },
  {
   "cell_type": "code",
   "execution_count": null,
   "id": "ce49c75d",
   "metadata": {},
   "outputs": [],
   "source": []
  },
  {
   "cell_type": "code",
   "execution_count": null,
   "id": "a72f2545",
   "metadata": {},
   "outputs": [],
   "source": []
  },
  {
   "cell_type": "code",
   "execution_count": null,
   "id": "0469ff3f",
   "metadata": {},
   "outputs": [],
   "source": []
  },
  {
   "cell_type": "code",
   "execution_count": null,
   "id": "da53cdd5",
   "metadata": {},
   "outputs": [],
   "source": []
  },
  {
   "cell_type": "code",
   "execution_count": null,
   "id": "b64800ba",
   "metadata": {},
   "outputs": [],
   "source": []
  }
 ],
 "metadata": {
  "kernelspec": {
   "display_name": "Python 3 (ipykernel)",
   "language": "python",
   "name": "python3"
  },
  "language_info": {
   "codemirror_mode": {
    "name": "ipython",
    "version": 3
   },
   "file_extension": ".py",
   "mimetype": "text/x-python",
   "name": "python",
   "nbconvert_exporter": "python",
   "pygments_lexer": "ipython3",
   "version": "3.11.0"
  }
 },
 "nbformat": 4,
 "nbformat_minor": 5
}
