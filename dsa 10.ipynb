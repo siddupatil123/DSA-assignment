{
 "cells": [
  {
   "cell_type": "code",
   "execution_count": null,
   "id": "4d05c162",
   "metadata": {},
   "outputs": [],
   "source": [
    "<aside>\n",
    "💡 **Question 1**\n",
    "\n",
    "Given an integer `n`, return *`true` if it is a power of three. Otherwise, return `false`*.\n",
    "\n",
    "An integer `n` is a power of three, if there exists an integer `x` such that `n == 3x`.\n",
    "\n",
    "</aside>"
   ]
  },
  {
   "cell_type": "code",
   "execution_count": 11,
   "id": "1426dc29",
   "metadata": {},
   "outputs": [],
   "source": [
    "def isPowerOfThree(n):\n",
    "    if n <= 0:\n",
    "        return False\n",
    "\n",
    "    while n % 3 == 0:\n",
    "        n //= 3\n",
    "\n",
    "    return n == 1\n"
   ]
  },
  {
   "cell_type": "code",
   "execution_count": 12,
   "id": "94e0fe1e",
   "metadata": {},
   "outputs": [
    {
     "data": {
      "text/plain": [
       "True"
      ]
     },
     "execution_count": 12,
     "metadata": {},
     "output_type": "execute_result"
    }
   ],
   "source": [
    "isPowerOfThree(27)"
   ]
  },
  {
   "cell_type": "code",
   "execution_count": null,
   "id": "b9c4fd15",
   "metadata": {},
   "outputs": [],
   "source": [
    "<aside>\n",
    "💡 **Question 2**\n",
    "\n",
    "You have a list `arr` of all integers in the range `[1, n]` sorted in a strictly increasing order. Apply the following algorithm on `arr`:\n",
    "\n",
    "- Starting from left to right, remove the first number and every other number afterward until you reach the end of the list.\n",
    "- Repeat the previous step again, but this time from right to left, remove the rightmost number and every other number from the remaining numbers.\n",
    "- Keep repeating the steps again, alternating left to right and right to left, until a single number remains.\n",
    "\n",
    "Given the integer `n`, return *the last number that remains in* `arr`.\n",
    "\n",
    "</aside>"
   ]
  },
  {
   "cell_type": "code",
   "execution_count": 23,
   "id": "5242906e",
   "metadata": {},
   "outputs": [],
   "source": [
    "def lastRemaining(n, left_to_right=True):\n",
    "    if n == 1:\n",
    "        return 1\n",
    "    \n",
    "    if left_to_right:\n",
    "        return 2 * lastRemaining(n // 2, False)\n",
    "    else:\n",
    "        if n % 2 == 1:\n",
    "            return 2 * lastRemaining(n // 2, True)\n",
    "        else:\n",
    "            return 2 * lastRemaining(n // 2, True) - 1\n"
   ]
  },
  {
   "cell_type": "code",
   "execution_count": 24,
   "id": "66926da0",
   "metadata": {},
   "outputs": [
    {
     "data": {
      "text/plain": [
       "6"
      ]
     },
     "execution_count": 24,
     "metadata": {},
     "output_type": "execute_result"
    }
   ],
   "source": [
    "lastRemaining(9)"
   ]
  },
  {
   "cell_type": "code",
   "execution_count": null,
   "id": "db3a6a5a",
   "metadata": {},
   "outputs": [],
   "source": [
    "<aside>\n",
    "💡 **Question 3**\n",
    "\n",
    "****Given a set represented as a string, write a recursive code to print all subsets of it. The subsets can be printed in any order.\n",
    "\n",
    "</aside>"
   ]
  },
  {
   "cell_type": "code",
   "execution_count": 30,
   "id": "01b906b0",
   "metadata": {},
   "outputs": [
    {
     "name": "stdout",
     "output_type": "stream",
     "text": [
      "abc\n",
      "ab\n",
      "ac\n",
      "a\n",
      "bc\n",
      "b\n",
      "c\n",
      "\n"
     ]
    }
   ],
   "source": [
    "def printSubsets(subset, remaining):\n",
    "    if len(remaining) == 0:\n",
    "        print(subset)\n",
    "        return\n",
    "\n",
    "    # Include the next character in the subset\n",
    "    printSubsets(subset + remaining[0],remaining[1:])\n",
    "    \n",
    "    # Exclude the next character from the subset\n",
    "    printSubsets(subset, remaining[1:])\n",
    "\n",
    "\n",
    "# Test the function\n",
    "set_str = \"abc\"\n",
    "printSubsets(\"\", set_str)\n"
   ]
  },
  {
   "cell_type": "code",
   "execution_count": null,
   "id": "f89966e3",
   "metadata": {},
   "outputs": [],
   "source": [
    "<aside>\n",
    "💡 **Question 4**\n",
    "\n",
    "Given a string calculate length of the string using recursion.\n",
    "\n",
    "</aside>"
   ]
  },
  {
   "cell_type": "code",
   "execution_count": 31,
   "id": "67f4e96c",
   "metadata": {},
   "outputs": [],
   "source": [
    "def calculateLength(str, index):\n",
    "    if index == len(str):\n",
    "        return 0\n",
    "\n",
    "    return 1 + calculateLength(str, index + 1)\n"
   ]
  },
  {
   "cell_type": "code",
   "execution_count": 33,
   "id": "0b20cb9e",
   "metadata": {},
   "outputs": [
    {
     "data": {
      "text/plain": [
       "4"
      ]
     },
     "execution_count": 33,
     "metadata": {},
     "output_type": "execute_result"
    }
   ],
   "source": [
    "calculateLength(\"abcd\",0)"
   ]
  },
  {
   "cell_type": "code",
   "execution_count": null,
   "id": "72f77dc6",
   "metadata": {},
   "outputs": [],
   "source": [
    "<aside>\n",
    "💡 **Question 5**\n",
    "\n",
    "We are given a string S, we need to find count of all contiguous substrings starting and ending with same character.\n",
    "\n",
    "</aside>"
   ]
  },
  {
   "cell_type": "code",
   "execution_count": 36,
   "id": "a55576c1",
   "metadata": {},
   "outputs": [],
   "source": [
    "def countContiguousSubstrings(S):\n",
    "    count = 0\n",
    "    for i in range(len(S)):\n",
    "        for j in range(i, len(S)):\n",
    "            if S[i] == S[j]:\n",
    "                count += 1\n",
    "    return count\n"
   ]
  },
  {
   "cell_type": "code",
   "execution_count": 37,
   "id": "ea204c3b",
   "metadata": {},
   "outputs": [
    {
     "data": {
      "text/plain": [
       "7"
      ]
     },
     "execution_count": 37,
     "metadata": {},
     "output_type": "execute_result"
    }
   ],
   "source": [
    "countContiguousSubstrings(\"abcab\")"
   ]
  },
  {
   "cell_type": "code",
   "execution_count": null,
   "id": "e572dc10",
   "metadata": {},
   "outputs": [],
   "source": [
    "<aside>\n",
    "💡 **Question 6**\n",
    "\n",
    "The [tower of Hanoi](https://en.wikipedia.org/wiki/Tower_of_Hanoi) is a famous puzzle where we have three rods and **N** disks. The objective of the puzzle is to move the entire stack to another rod. You are given the number of discs **N**. Initially, these discs are in the rod 1. You need to print all the steps of discs movement so that all the discs reach the 3rd rod. Also, you need to find the total moves.**Note:** The discs are arranged such that the **top disc is numbered 1** and the **bottom-most disc is numbered N**. Also, all the discs have **different sizes** and a bigger disc **cannot** be put on the top of a smaller disc. Refer the provided link to get a better clarity about the puzzle.\n",
    "\n",
    "</aside>"
   ]
  },
  {
   "cell_type": "code",
   "execution_count": 39,
   "id": "133e1a26",
   "metadata": {},
   "outputs": [
    {
     "name": "stdout",
     "output_type": "stream",
     "text": [
      "Move disk 1 from rod 1 to rod 2\n",
      "Move disk 2 from rod 1 to rod 3\n",
      "Move disk 1 from rod 2 to rod 3\n",
      "Total moves: 3\n"
     ]
    }
   ],
   "source": [
    "def towerOfHanoi(N, src, aux, dest, moves):\n",
    "    if N == 1:\n",
    "        print(f\"Move disk 1 from rod {src} to rod {dest}\")\n",
    "        moves += 1\n",
    "    else:\n",
    "        moves = towerOfHanoi(N-1, src, dest, aux, moves)\n",
    "        print(f\"Move disk {N} from rod {src} to rod {dest}\")\n",
    "        moves += 1\n",
    "        moves = towerOfHanoi(N-1, aux, src, dest, moves)\n",
    "    return moves\n",
    "\n",
    "# Test the function\n",
    "N = 2\n",
    "moves = towerOfHanoi(N, 1, 2, 3, 0)\n",
    "print(f\"Total moves: {moves}\")\n"
   ]
  },
  {
   "cell_type": "code",
   "execution_count": null,
   "id": "34f6ca0c",
   "metadata": {},
   "outputs": [],
   "source": [
    "<aside>\n",
    "💡 **Question 7**\n",
    "\n",
    "Given a string **str**, the task is to print all the permutations of **str**. A **permutation** is an arrangement of all or part of a set of objects, with regard to the order of the arrangement. For instance, the words ‘bat’ and ‘tab’ represents two distinct permutation (or arrangements) of a similar three letter word.\n",
    "\n",
    "</aside>"
   ]
  },
  {
   "cell_type": "code",
   "execution_count": 40,
   "id": "7593c18b",
   "metadata": {},
   "outputs": [
    {
     "name": "stdout",
     "output_type": "stream",
     "text": [
      "cd\n",
      "dc\n"
     ]
    }
   ],
   "source": [
    "def permute(str):\n",
    "    permutations = []\n",
    "    permuteHelper(str, \"\", permutations)\n",
    "    return permutations\n",
    "\n",
    "def permuteHelper(remaining, current, permutations):\n",
    "    if len(remaining) == 0:\n",
    "        permutations.append(current)\n",
    "        return\n",
    "\n",
    "    for i in range(len(remaining)):\n",
    "        c = remaining[i]\n",
    "        new_remaining = remaining[:i] + remaining[i+1:]\n",
    "        permuteHelper(new_remaining, current + c, permutations)\n",
    "\n",
    "# Test the function\n",
    "str = \"cd\"\n",
    "permutations = permute(str)\n",
    "\n",
    "# Print the permutations\n",
    "for perm in permutations:\n",
    "    print(perm)\n"
   ]
  },
  {
   "cell_type": "code",
   "execution_count": null,
   "id": "6fc7d8ac",
   "metadata": {},
   "outputs": [],
   "source": [
    "<aside>\n",
    "💡 **Question 8**\n",
    "\n",
    "Given a string, count total number of consonants in it. A consonant is an English alphabet character that is not vowel (a, e, i, o and u). Examples of constants are b, c, d, f, and g.\n",
    "\n",
    "</aside>"
   ]
  },
  {
   "cell_type": "code",
   "execution_count": 41,
   "id": "d76b3f34",
   "metadata": {},
   "outputs": [],
   "source": [
    "def countConsonants(str):\n",
    "    count = 0\n",
    "    vowels = ['a', 'e', 'i', 'o', 'u']\n",
    "    str = str.lower()\n",
    "\n",
    "    for c in str:\n",
    "        if c.isalpha() and c not in vowels:\n",
    "            count += 1\n",
    "\n",
    "    return count\n"
   ]
  },
  {
   "cell_type": "code",
   "execution_count": 44,
   "id": "588a23d7",
   "metadata": {},
   "outputs": [
    {
     "data": {
      "text/plain": [
       "3"
      ]
     },
     "execution_count": 44,
     "metadata": {},
     "output_type": "execute_result"
    }
   ],
   "source": [
    "countConsonants(\"abcde\")"
   ]
  },
  {
   "cell_type": "code",
   "execution_count": null,
   "id": "3478014a",
   "metadata": {},
   "outputs": [],
   "source": []
  },
  {
   "cell_type": "code",
   "execution_count": null,
   "id": "a9181856",
   "metadata": {},
   "outputs": [],
   "source": []
  },
  {
   "cell_type": "code",
   "execution_count": null,
   "id": "30f295cc",
   "metadata": {},
   "outputs": [],
   "source": []
  },
  {
   "cell_type": "code",
   "execution_count": null,
   "id": "f9603f57",
   "metadata": {},
   "outputs": [],
   "source": []
  }
 ],
 "metadata": {
  "kernelspec": {
   "display_name": "Python 3 (ipykernel)",
   "language": "python",
   "name": "python3"
  },
  "language_info": {
   "codemirror_mode": {
    "name": "ipython",
    "version": 3
   },
   "file_extension": ".py",
   "mimetype": "text/x-python",
   "name": "python",
   "nbconvert_exporter": "python",
   "pygments_lexer": "ipython3",
   "version": "3.11.0"
  }
 },
 "nbformat": 4,
 "nbformat_minor": 5
}
