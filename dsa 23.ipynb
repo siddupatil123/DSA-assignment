{
 "cells": [
  {
   "cell_type": "markdown",
   "id": "42f8e503",
   "metadata": {},
   "source": [
    "1"
   ]
  },
  {
   "cell_type": "code",
   "execution_count": 4,
   "id": "faea9d92",
   "metadata": {},
   "outputs": [
    {
     "name": "stdout",
     "output_type": "stream",
     "text": [
      "2\n"
     ]
    }
   ],
   "source": [
    "\n",
    "def find_depth_tool(tree,n,index) :\n",
    "\n",
    "    if (index[0] >= n or tree[index[0]] == 'l'):\n",
    "        return 0\n",
    "\n",
    "    index[0] += 1\n",
    "    left = find_depth_tool(tree,n,index)\n",
    "\n",
    "    index[0] += 1\n",
    "    right = find_depth_tool(tree,n,index)\n",
    "\n",
    "    return (max(left, right) + 1)\n",
    "\n",
    "def find_depth(tree, n) :\n",
    "\n",
    "    index = [0]\n",
    "    return find_depth_tool(tree,n,index)\n",
    "\n",
    "\n",
    "tree= \"nlnll\"\n",
    "n = len(tree)\n",
    "\n",
    "print(find_depth(tree,n))"
   ]
  },
  {
   "cell_type": "markdown",
   "id": "69462372",
   "metadata": {},
   "source": [
    "2"
   ]
  },
  {
   "cell_type": "code",
   "execution_count": 3,
   "id": "b928c177",
   "metadata": {},
   "outputs": [
    {
     "name": "stdout",
     "output_type": "stream",
     "text": [
      "4 5 3 6 "
     ]
    }
   ],
   "source": [
    "class Node:\n",
    "\n",
    "    def __init__(self, data):\n",
    "        self.data = data\n",
    "        self.left = None\n",
    "        self.right = None\n",
    "\n",
    "def left_view_tool(root, level, max_level):\n",
    "\n",
    "    if root is None:\n",
    "        return\n",
    "\n",
    "    if (max_level[0] < level):\n",
    "        print (root.data, end = \" \")\n",
    "        max_level[0] = level\n",
    "\n",
    "    left_view_tool(root.left, level + 1, max_level)\n",
    "    left_view_tool(root.right, level + 1, max_level)\n",
    "\n",
    "def left_View(root):\n",
    "    max_level = [0]\n",
    "    left_view_tool(root, 1, max_level)\n",
    "\n",
    "\n",
    "\n",
    "root = Node(4)\n",
    "root.left = Node(5)\n",
    "root.right = Node(2)\n",
    "root.right.right = Node(1)\n",
    "root.right.left = Node(3)\n",
    "root.right.left.left = Node(6)\n",
    "root.right.left.right = Node(7)\n",
    "\n",
    "left_View(root)"
   ]
  },
  {
   "cell_type": "code",
   "execution_count": null,
   "id": "5ed9d632",
   "metadata": {},
   "outputs": [],
   "source": [
    "3"
   ]
  },
  {
   "cell_type": "code",
   "execution_count": 2,
   "id": "42028da5",
   "metadata": {},
   "outputs": [
    {
     "name": "stdout",
     "output_type": "stream",
     "text": [
      "4 2 1 7 "
     ]
    }
   ],
   "source": [
    "\n",
    "\n",
    "class Node:\n",
    "\n",
    "    def __init__(self, data):\n",
    "        self.data = data\n",
    "        self.left = None\n",
    "        self.right = None\n",
    "\n",
    "def right_view_tool(root, level, max_level):\n",
    "\n",
    "    if root is None:\n",
    "        return\n",
    "\n",
    "    if (max_level[0] < level):\n",
    "        print (root.data, end = \" \")\n",
    "        max_level[0] = level\n",
    "\n",
    "    right_view_tool(root.right, level + 1, max_level)\n",
    "    right_view_tool(root.left, level + 1, max_level)\n",
    "\n",
    "def right_View(root):\n",
    "    max_level = [0]\n",
    "    right_view_tool(root, 1, max_level)\n",
    "\n",
    "\n",
    "\n",
    "root = Node(4)\n",
    "root.left = Node(5)\n",
    "root.right = Node(2)\n",
    "root.right.right = Node(1)\n",
    "root.right.left = Node(3)\n",
    "root.right.left.left = Node(6)\n",
    "root.right.left.right = Node(7)\n",
    "\n",
    "right_View(root)"
   ]
  },
  {
   "cell_type": "markdown",
   "id": "1d34423d",
   "metadata": {},
   "source": [
    "4"
   ]
  },
  {
   "cell_type": "code",
   "execution_count": 1,
   "id": "ab6d69ff",
   "metadata": {},
   "outputs": [
    {
     "name": "stdout",
     "output_type": "stream",
     "text": [
      "5 10 4 14 25 "
     ]
    }
   ],
   "source": [
    "\n",
    "class Node:\n",
    "\n",
    "    def __init__(self, key = None, left = None, right = None):\n",
    "\n",
    "        self.data = key\n",
    "        self.left = left\n",
    "        self.right = right\n",
    "\n",
    "def print_bottomView(root):\n",
    "\n",
    "    d = dict()\n",
    "\n",
    "    print_bottomView_tool(root, d, 0, 0)\n",
    "\n",
    "    for i in sorted(d.keys()):\n",
    "        print(d[i][0], end = \" \")\n",
    "\n",
    "def print_bottomView_tool(root, d, hd, level):\n",
    "\n",
    "    if root is None:\n",
    "        return\n",
    "\n",
    "    if hd in d:\n",
    "        if level >= d[hd][1]:\n",
    "            d[hd] = [root.data, level]\n",
    "    else:\n",
    "        d[hd] = [root.data, level]\n",
    "\n",
    "    print_bottomView_tool(root.left, d, hd - 1,level + 1)\n",
    "\n",
    "    print_bottomView_tool(root.right, d, hd + 1,level + 1)\n",
    "\n",
    "\n",
    "\n",
    "root = Node(20)\n",
    "root.left = Node(8)\n",
    "root.right = Node(22)\n",
    "root.left.left = Node(5)\n",
    "root.left.right = Node(3)\n",
    "root.right.left = Node(4)\n",
    "root.right.right = Node(25)\n",
    "root.left.right.left = Node(10)\n",
    "root.left.right.right = Node(14)\n",
    "\n",
    "print_bottomView(root)\n"
   ]
  },
  {
   "cell_type": "code",
   "execution_count": null,
   "id": "0582519f",
   "metadata": {},
   "outputs": [],
   "source": []
  },
  {
   "cell_type": "code",
   "execution_count": null,
   "id": "67a581f3",
   "metadata": {},
   "outputs": [],
   "source": []
  },
  {
   "cell_type": "code",
   "execution_count": null,
   "id": "6a54dfd5",
   "metadata": {},
   "outputs": [],
   "source": []
  },
  {
   "cell_type": "code",
   "execution_count": null,
   "id": "eaa1e4cc",
   "metadata": {},
   "outputs": [],
   "source": []
  },
  {
   "cell_type": "code",
   "execution_count": null,
   "id": "0f49ed58",
   "metadata": {},
   "outputs": [],
   "source": []
  },
  {
   "cell_type": "code",
   "execution_count": null,
   "id": "5e54b9a1",
   "metadata": {},
   "outputs": [],
   "source": []
  }
 ],
 "metadata": {
  "kernelspec": {
   "display_name": "Python 3 (ipykernel)",
   "language": "python",
   "name": "python3"
  },
  "language_info": {
   "codemirror_mode": {
    "name": "ipython",
    "version": 3
   },
   "file_extension": ".py",
   "mimetype": "text/x-python",
   "name": "python",
   "nbconvert_exporter": "python",
   "pygments_lexer": "ipython3",
   "version": "3.11.0"
  }
 },
 "nbformat": 4,
 "nbformat_minor": 5
}
