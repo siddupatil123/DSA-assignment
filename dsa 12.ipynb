{
 "cells": [
  {
   "cell_type": "code",
   "execution_count": null,
   "id": "304549da",
   "metadata": {},
   "outputs": [],
   "source": [
    "<aside>\n",
    "💡 **Question 1**\n",
    "\n",
    "Given a singly linked list, delete **middle** of the linked list. For example, if given linked list is 1->2->**3**->4->5 then linked list should be modified to 1->2->4->5.If there are **even** nodes, then there would be **two middle** nodes, we need to delete the second middle element. For example, if given linked list is 1->2->3->4->5->6 then it should be modified to 1->2->3->5->6.If the input linked list is NULL or has 1 node, then it should return NULL\n",
    "\n",
    "</aside>"
   ]
  },
  {
   "cell_type": "code",
   "execution_count": 8,
   "id": "288f879d",
   "metadata": {},
   "outputs": [],
   "source": [
    "class Node:\n",
    "    def __init__(self, data=None):\n",
    "        self.data = data\n",
    "        self.next = None\n",
    "\n",
    "\n",
    "def delete_middle_node(head):\n",
    "    if head is None or head.next is None:\n",
    "        return None\n",
    "\n",
    "    slow_ptr = head\n",
    "    fast_ptr = head\n",
    "    prev_ptr = None\n",
    "\n",
    "    while fast_ptr is not None and fast_ptr.next is not None:\n",
    "        fast_ptr = fast_ptr.next.next\n",
    "        prev_ptr = slow_ptr\n",
    "        slow_ptr = slow_ptr.next\n",
    "\n",
    "    prev_ptr.next = slow_ptr.next\n",
    "\n",
    "    return head\n"
   ]
  },
  {
   "cell_type": "code",
   "execution_count": 9,
   "id": "328c574e",
   "metadata": {},
   "outputs": [
    {
     "name": "stdout",
     "output_type": "stream",
     "text": [
      "1 2 4 5 "
     ]
    }
   ],
   "source": [
    "# Create the linked list\n",
    "head = Node(1)\n",
    "head.next = Node(2)\n",
    "head.next.next = Node(3)\n",
    "head.next.next.next = Node(4)\n",
    "head.next.next.next.next = Node(5)\n",
    "\n",
    "# Delete the middle node(s)\n",
    "head = delete_middle_node(head)\n",
    "\n",
    "# Print the modified linked list\n",
    "current = head\n",
    "while current is not None:\n",
    "    print(current.data, end=\" \")\n",
    "    current = current.next\n"
   ]
  },
  {
   "cell_type": "code",
   "execution_count": null,
   "id": "855cf12e",
   "metadata": {},
   "outputs": [],
   "source": [
    "<aside>\n",
    "💡 **Question 2**\n",
    "\n",
    "Given a linked list of **N** nodes. The task is to check if the linked list has a loop. Linked list can contain self loop.\n",
    "\n",
    "</aside>"
   ]
  },
  {
   "cell_type": "code",
   "execution_count": 10,
   "id": "2add49a3",
   "metadata": {},
   "outputs": [],
   "source": [
    "class Node:\n",
    "    def __init__(self, data=None):\n",
    "        self.data = data\n",
    "        self.next = None\n",
    "\n",
    "\n",
    "def has_loop(head):\n",
    "    if head is None or head.next is None:\n",
    "        return False\n",
    "\n",
    "    slow_ptr = head\n",
    "    fast_ptr = head.next\n",
    "\n",
    "    while fast_ptr is not None and fast_ptr.next is not None:\n",
    "        if slow_ptr == fast_ptr:\n",
    "            return True\n",
    "        slow_ptr = slow_ptr.next\n",
    "        fast_ptr = fast_ptr.next.next\n",
    "\n",
    "    return False\n"
   ]
  },
  {
   "cell_type": "code",
   "execution_count": 14,
   "id": "9945f07f",
   "metadata": {},
   "outputs": [
    {
     "name": "stdout",
     "output_type": "stream",
     "text": [
      "True\n"
     ]
    }
   ],
   "source": [
    "# Create a linked list with a loop\n",
    "head = Node(0)\n",
    "head.next = Node(1)\n",
    "head.next.next = Node(2)\n",
    "head.next.next.next = Node(3)\n",
    "head.next.next.next.next = head.next  # Creating a loop\n",
    "\n",
    "# Check if the linked list has a loop\n",
    "has_loop_result = has_loop(head)\n",
    "print(has_loop_result)  # Output: True\n"
   ]
  },
  {
   "cell_type": "code",
   "execution_count": null,
   "id": "1b41a903",
   "metadata": {},
   "outputs": [],
   "source": [
    "<aside>\n",
    "💡 **Question 3**\n",
    "\n",
    "Given a linked list consisting of **L** nodes and given a number **N**. The task is to find the **N**th node from the end of the linked list.\n",
    "\n",
    "**Example 1:**\n",
    "\n",
    "</aside>"
   ]
  },
  {
   "cell_type": "code",
   "execution_count": 1,
   "id": "8303601d",
   "metadata": {},
   "outputs": [
    {
     "name": "stdout",
     "output_type": "stream",
     "text": [
      "The 2 th node from the end is: 4\n"
     ]
    }
   ],
   "source": [
    "class Node:\n",
    "    def __init__(self, data):\n",
    "        self.data = data\n",
    "        self.next = None\n",
    "\n",
    "def find_nth_node_from_end(head, N):\n",
    "    first = head\n",
    "    second = head\n",
    "\n",
    "    # Move the first pointer N nodes ahead\n",
    "    for _ in range(N):\n",
    "        if first is None:\n",
    "            return None  # Linked list has fewer than N nodes\n",
    "        first = first.next\n",
    "\n",
    "    # Move both pointers simultaneously until first pointer reaches the end\n",
    "    while first is not None:\n",
    "        first = first.next\n",
    "        second = second.next\n",
    "\n",
    "    return second.data\n",
    "\n",
    "# Example usage\n",
    "# Create a linked list: 1 -> 2 -> 3 -> 4 -> 5\n",
    "head = Node(1)\n",
    "head.next = Node(2)\n",
    "head.next.next = Node(3)\n",
    "head.next.next.next = Node(4)\n",
    "head.next.next.next.next = Node(5)\n",
    "\n",
    "N = 2  # Find the 2nd node from the end\n",
    "result = find_nth_node_from_end(head, N)\n",
    "if result is not None:\n",
    "    print(\"The\", N, \"th node from the end is:\", result)\n",
    "else:\n",
    "    print(\"The linked list has fewer than\", N, \"nodes.\")\n"
   ]
  },
  {
   "cell_type": "code",
   "execution_count": null,
   "id": "76cc80dd",
   "metadata": {},
   "outputs": [],
   "source": [
    "<aside>\n",
    "💡 **Question 4**\n",
    "\n",
    "Given a singly linked list of characters, write a function that returns true if the given list is a palindrome, else false.\n",
    "\n",
    "!https://media.geeksforgeeks.org/wp-content/uploads/20220816144425/LLdrawio.png\n",
    "\n",
    "**Examples:**\n",
    "\n",
    "> Input: R->A->D->A->R->NULL\n",
    "> \n",
    "> \n",
    "> **Output:** Yes\n",
    "> \n",
    "</aside>"
   ]
  },
  {
   "cell_type": "code",
   "execution_count": 2,
   "id": "4952420a",
   "metadata": {},
   "outputs": [
    {
     "name": "stdout",
     "output_type": "stream",
     "text": [
      "The linked list is a palindrome.\n"
     ]
    }
   ],
   "source": [
    "class Node:\n",
    "    def __init__(self, data):\n",
    "        self.data = data\n",
    "        self.next = None\n",
    "\n",
    "def is_palindrome(head):\n",
    "    # Store characters in a list\n",
    "    characters = []\n",
    "    current = head\n",
    "    while current is not None:\n",
    "        characters.append(current.data)\n",
    "        current = current.next\n",
    "\n",
    "    # Reverse the list\n",
    "    characters_reversed = characters[::-1]\n",
    "\n",
    "    # Compare characters with reversed list\n",
    "    for i in range(len(characters)):\n",
    "        if characters[i] != characters_reversed[i]:\n",
    "            return False\n",
    "\n",
    "    return True\n",
    "\n",
    "# Example usage\n",
    "# Create a linked list: R -> A -> D -> A -> R -> None\n",
    "head = Node('R')\n",
    "head.next = Node('A')\n",
    "head.next.next = Node('D')\n",
    "head.next.next.next = Node('A')\n",
    "head.next.next.next.next = Node('R')\n",
    "\n",
    "if is_palindrome(head):\n",
    "    print(\"The linked list is a palindrome.\")\n",
    "else:\n",
    "    print(\"The linked list is not a palindrome.\")\n"
   ]
  },
  {
   "cell_type": "code",
   "execution_count": null,
   "id": "08c70a86",
   "metadata": {},
   "outputs": [],
   "source": [
    "<aside>\n",
    "💡 **Question 5**\n",
    "\n",
    "Given a linked list of **N** nodes such that it may contain a loop.\n",
    "\n",
    "A loop here means that the last node of the link list is connected to the node at position X(1-based index). If the link list does not have any loop, X=0.\n",
    "\n",
    "Remove the loop from the linked list, if it is present, i.e. unlink the last node which is forming the loop.\n",
    "\n",
    "**Example 1:**\n",
    "\n",
    "</aside>"
   ]
  },
  {
   "cell_type": "code",
   "execution_count": 3,
   "id": "83ce442a",
   "metadata": {},
   "outputs": [
    {
     "name": "stdout",
     "output_type": "stream",
     "text": [
      "Loop exists in the linked list.\n",
      "1 -> 2 -> 3 -> 4 -> 5 -> "
     ]
    }
   ],
   "source": [
    "class Node:\n",
    "    def __init__(self, data):\n",
    "        self.data = data\n",
    "        self.next = None\n",
    "\n",
    "def detect_and_remove_loop(head):\n",
    "    slow = head\n",
    "    fast = head\n",
    "\n",
    "    # Detect the loop using Floyd's Cycle-Finding Algorithm\n",
    "    while fast is not None and fast.next is not None:\n",
    "        slow = slow.next\n",
    "        fast = fast.next.next\n",
    "        if slow == fast:\n",
    "            break\n",
    "\n",
    "    # No loop found, return the linked list as is\n",
    "    if fast is None or fast.next is None:\n",
    "        return\n",
    "\n",
    "    # Move slow pointer back to the head\n",
    "    slow = head\n",
    "\n",
    "    # Move both pointers one step at a time until they meet again\n",
    "    while slow.next != fast.next:\n",
    "        slow = slow.next\n",
    "        fast = fast.next\n",
    "\n",
    "    # Remove the loop by making the next pointer of the node\n",
    "    # before the meeting point (start of the loop) point to None\n",
    "    fast.next = None\n",
    "\n",
    "# Example usage\n",
    "# Create a linked list: 1 -> 2 -> 3 -> 4 -> 5\n",
    "head = Node(1)\n",
    "head.next = Node(2)\n",
    "head.next.next = Node(3)\n",
    "head.next.next.next = Node(4)\n",
    "head.next.next.next.next = Node(5)\n",
    "\n",
    "# Create a loop by connecting the last node to the second node\n",
    "head.next.next.next.next.next = head.next\n",
    "\n",
    "# Detect and remove the loop\n",
    "detect_and_remove_loop(head)\n",
    "\n",
    "# Verify if the loop is removed\n",
    "current = head\n",
    "loop_exists = False\n",
    "while current is not None:\n",
    "    if current.next is None:\n",
    "        loop_exists = True\n",
    "        break\n",
    "    current = current.next\n",
    "\n",
    "if loop_exists:\n",
    "    print(\"Loop exists in the linked list.\")\n",
    "else:\n",
    "    print(\"Loop is successfully removed from the linked list.\")\n",
    "\n",
    "# Print the linked list after removing the loop\n",
    "current = head\n",
    "while current is not None:\n",
    "    print(current.data, end=\" -> \")\n",
    "    current = current.next\n"
   ]
  },
  {
   "cell_type": "code",
   "execution_count": null,
   "id": "bea357eb",
   "metadata": {},
   "outputs": [],
   "source": [
    "<aside>\n",
    "💡 **Question 6**\n",
    "\n",
    "Given a linked list and two integers M and N. Traverse the linked list such that you retain M nodes then delete next N nodes, continue the same till end of the linked list.\n",
    "\n",
    "Difficulty Level: Rookie\n",
    "\n",
    "**Examples**:\n",
    "\n",
    "</aside>"
   ]
  },
  {
   "cell_type": "code",
   "execution_count": 6,
   "id": "ea8fd530",
   "metadata": {},
   "outputs": [
    {
     "name": "stdout",
     "output_type": "stream",
     "text": [
      "1 -> 2 -> 6 -> 7 -> "
     ]
    }
   ],
   "source": [
    "class Node:\n",
    "    def __init__(self, data):\n",
    "        self.data = data\n",
    "        self.next = None\n",
    "\n",
    "def retain_delete_linked_list(head, M, N):\n",
    "    current = head\n",
    "\n",
    "    while current is not None:\n",
    "        # Traverse M nodes\n",
    "        for _ in range(M - 1):\n",
    "            if current is None:\n",
    "                return head\n",
    "            current = current.next\n",
    "\n",
    "        if current is None:\n",
    "            return head\n",
    "\n",
    "        # Delete N nodes\n",
    "        next_node = current.next\n",
    "        for _ in range(N):\n",
    "            if next_node is None:\n",
    "                break\n",
    "            next_node = next_node.next\n",
    "\n",
    "        current.next = next_node\n",
    "        current = next_node\n",
    "\n",
    "    return head\n",
    "\n",
    "# Example usage\n",
    "# Create a linked list: 1 -> 2 -> 3 -> 4 -> 5 -> 6 -> 7 -> 8 -> 9 -> 10\n",
    "head = Node(1)\n",
    "head.next = Node(2)\n",
    "head.next.next = Node(3)\n",
    "head.next.next.next = Node(4)\n",
    "head.next.next.next.next = Node(5)\n",
    "head.next.next.next.next.next = Node(6)\n",
    "head.next.next.next.next.next.next = Node(7)\n",
    "head.next.next.next.next.next.next.next = Node(8)\n",
    "head.next.next.next.next.next.next.next.next = Node(9)\n",
    "head.next.next.next.next.next.next.next.next.next = Node(10)\n",
    "\n",
    "M = 2\n",
    "N = 3\n",
    "\n",
    "head = retain_delete_linked_list(head, M, N)\n",
    "\n",
    "# Print the resulting linked list\n",
    "current = head\n",
    "while current is not None:\n",
    "    print(current.data, end=\" -> \")\n",
    "    current = current.next\n"
   ]
  },
  {
   "cell_type": "code",
   "execution_count": null,
   "id": "aab2f47f",
   "metadata": {},
   "outputs": [],
   "source": [
    "<aside>\n",
    "💡 **Question 7**\n",
    "\n",
    "Given two linked lists, insert nodes of second list into first list at alternate positions of first list.\n",
    "For example, if first list is 5->7->17->13->11 and second is 12->10->2->4->6, the first list should become 5->12->7->10->17->2->13->4->11->6 and second list should become empty. The nodes of second list should only be inserted when there are positions available. For example, if the first list is 1->2->3 and second list is 4->5->6->7->8, then first list should become 1->4->2->5->3->6 and second list to 7->8.\n",
    "\n",
    "Use of extra space is not allowed (Not allowed to create additional nodes), i.e., insertion must be done in-place. Expected time complexity is O(n) where n is number of nodes in first list.\n",
    "\n",
    "</aside>"
   ]
  },
  {
   "cell_type": "code",
   "execution_count": 7,
   "id": "d6b1eba0",
   "metadata": {},
   "outputs": [
    {
     "name": "stdout",
     "output_type": "stream",
     "text": [
      "5 -> 12 -> 7 -> 10 -> 17 -> 2 -> 13 -> 4 -> 11 -> 6 -> None\n",
      "12 -> 7 -> 10 -> 17 -> 2 -> 13 -> 4 -> 11 -> 6 -> None\n"
     ]
    }
   ],
   "source": [
    "class Node:\n",
    "    def __init__(self, data):\n",
    "        self.data = data\n",
    "        self.next = None\n",
    "\n",
    "def merge_linked_lists(first_head, second_head):\n",
    "    if first_head is None:\n",
    "        return second_head\n",
    "\n",
    "    first_curr = first_head\n",
    "    second_curr = second_head\n",
    "\n",
    "    while first_curr is not None and second_curr is not None:\n",
    "        first_next = first_curr.next\n",
    "        second_next = second_curr.next\n",
    "\n",
    "        second_curr.next = first_next\n",
    "        first_curr.next = second_curr\n",
    "\n",
    "        first_curr = first_next\n",
    "        second_curr = second_next\n",
    "\n",
    "    if second_curr is not None:\n",
    "        # Append remaining nodes of second linked list to the end of the first linked list\n",
    "        first_tail = first_head\n",
    "        while first_tail.next is not None:\n",
    "            first_tail = first_tail.next\n",
    "        first_tail.next = second_curr\n",
    "\n",
    "    # Empty the second linked list\n",
    "    second_head = None\n",
    "\n",
    "    return first_head\n",
    "\n",
    "# Example usage\n",
    "# Create the first linked list: 5 -> 7 -> 17 -> 13 -> 11\n",
    "first_head = Node(5)\n",
    "first_head.next = Node(7)\n",
    "first_head.next.next = Node(17)\n",
    "first_head.next.next.next = Node(13)\n",
    "first_head.next.next.next.next = Node(11)\n",
    "\n",
    "# Create the second linked list: 12 -> 10 -> 2 -> 4 -> 6\n",
    "second_head = Node(12)\n",
    "second_head.next = Node(10)\n",
    "second_head.next.next = Node(2)\n",
    "second_head.next.next.next = Node(4)\n",
    "second_head.next.next.next.next = Node(6)\n",
    "\n",
    "# Merge the two linked lists\n",
    "first_head = merge_linked_lists(first_head, second_head)\n",
    "\n",
    "# Print the resulting merged linked list (first list) and the emptied second list\n",
    "current = first_head\n",
    "while current is not None:\n",
    "    print(current.data, end=\" -> \")\n",
    "    current = current.next\n",
    "print(\"None\")\n",
    "\n",
    "current = second_head\n",
    "while current is not None:\n",
    "    print(current.data, end=\" -> \")\n",
    "    current = current.next\n",
    "print(\"None\")\n"
   ]
  },
  {
   "cell_type": "code",
   "execution_count": null,
   "id": "c9a8aee1",
   "metadata": {},
   "outputs": [],
   "source": [
    "<aside>\n",
    "💡 **Question 8**\n",
    "\n",
    "Given a singly linked list, find if the linked list is [circular](https://www.geeksforgeeks.org/circular-linked-list/amp/) or not.\n",
    "\n",
    "> A linked list is called circular if it is not NULL-terminated and all nodes are connected in the form of a cycle. Below is an example of a circular linked list.\n",
    "> \n",
    "</aside>"
   ]
  },
  {
   "cell_type": "code",
   "execution_count": 8,
   "id": "99a9eeb6",
   "metadata": {},
   "outputs": [
    {
     "name": "stdout",
     "output_type": "stream",
     "text": [
      "The linked list is circular.\n"
     ]
    }
   ],
   "source": [
    "class Node:\n",
    "    def __init__(self, data):\n",
    "        self.data = data\n",
    "        self.next = None\n",
    "\n",
    "def is_circular_linked_list(head):\n",
    "    if head is None:\n",
    "        return False\n",
    "\n",
    "    slow = head\n",
    "    fast = head.next\n",
    "\n",
    "    while fast is not None and fast.next is not None:\n",
    "        if slow == fast:\n",
    "            return True\n",
    "        slow = slow.next\n",
    "        fast = fast.next.next\n",
    "\n",
    "    return False\n",
    "\n",
    "# Example usage\n",
    "# Create a circular linked list: 1 -> 2 -> 3 -> 4 -> 2 (points back to node 2)\n",
    "head = Node(1)\n",
    "head.next = Node(2)\n",
    "head.next.next = Node(3)\n",
    "head.next.next.next = Node(4)\n",
    "head.next.next.next.next = head.next\n",
    "\n",
    "# Check if the linked list is circular\n",
    "if is_circular_linked_list(head):\n",
    "    print(\"The linked list is circular.\")\n",
    "else:\n",
    "    print(\"The linked list is not circular.\")\n"
   ]
  },
  {
   "cell_type": "code",
   "execution_count": null,
   "id": "1a295b35",
   "metadata": {},
   "outputs": [],
   "source": []
  },
  {
   "cell_type": "code",
   "execution_count": null,
   "id": "53022b5d",
   "metadata": {},
   "outputs": [],
   "source": []
  },
  {
   "cell_type": "code",
   "execution_count": null,
   "id": "bc8f00a6",
   "metadata": {},
   "outputs": [],
   "source": []
  },
  {
   "cell_type": "code",
   "execution_count": null,
   "id": "f3b562db",
   "metadata": {},
   "outputs": [],
   "source": []
  },
  {
   "cell_type": "code",
   "execution_count": null,
   "id": "560e7cd1",
   "metadata": {},
   "outputs": [],
   "source": []
  },
  {
   "cell_type": "code",
   "execution_count": null,
   "id": "9de20e7d",
   "metadata": {},
   "outputs": [],
   "source": []
  }
 ],
 "metadata": {
  "kernelspec": {
   "display_name": "Python 3 (ipykernel)",
   "language": "python",
   "name": "python3"
  },
  "language_info": {
   "codemirror_mode": {
    "name": "ipython",
    "version": 3
   },
   "file_extension": ".py",
   "mimetype": "text/x-python",
   "name": "python",
   "nbconvert_exporter": "python",
   "pygments_lexer": "ipython3",
   "version": "3.11.0"
  }
 },
 "nbformat": 4,
 "nbformat_minor": 5
}
