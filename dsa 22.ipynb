{
 "cells": [
  {
   "cell_type": "markdown",
   "id": "5a47aeac",
   "metadata": {},
   "source": [
    "01"
   ]
  },
  {
   "cell_type": "code",
   "execution_count": 1,
   "id": "7ba41766",
   "metadata": {},
   "outputs": [
    {
     "name": "stdout",
     "output_type": "stream",
     "text": [
      "25 12 30 10 36 15 "
     ]
    }
   ],
   "source": [
    "class Node:\n",
    "    def __init__(self, val):\n",
    "        self.right = None\n",
    "        self.data = val\n",
    "        self.left = None\n",
    "\n",
    "prev = None\n",
    "\n",
    "def BinaryTree_to_DoublyLinkedList(root):\n",
    "\n",
    "    if root is None:\n",
    "        return root\n",
    "\n",
    "    head = BinaryTree_to_DoublyLinkedList(root.left);\n",
    "    global prev\n",
    "\n",
    "    if prev is None :\n",
    "        head = root\n",
    "\n",
    "    else:\n",
    "        root.left = prev\n",
    "        prev.right = root\n",
    "\n",
    "    prev = root\n",
    "\n",
    "    BinaryTree_to_DoublyLinkedList(root.right);\n",
    "\n",
    "    return head\n",
    "\n",
    "def print_dLL(head):\n",
    "\n",
    "    while head is not None:\n",
    "        print(head.data, end=\" \")\n",
    "        head = head.right\n",
    "\n",
    "\n",
    "root = Node(10)\n",
    "root.left = Node(12)\n",
    "root.right = Node(15)\n",
    "root.left.left = Node(25)\n",
    "root.left.right = Node(30)\n",
    "root.right.left = Node(36)\n",
    "\n",
    "head = BinaryTree_to_DoublyLinkedList(root)\n",
    "print_dLL(head)\n"
   ]
  },
  {
   "cell_type": "markdown",
   "id": "e206cf77",
   "metadata": {},
   "source": [
    "2"
   ]
  },
  {
   "cell_type": "code",
   "execution_count": 2,
   "id": "f3a21cca",
   "metadata": {},
   "outputs": [
    {
     "name": "stdout",
     "output_type": "stream",
     "text": [
      "Given tree\n",
      "1 \n",
      "2 3 \n",
      "4 5 \n",
      "\n",
      "Flipped Tree\n",
      "2 \n",
      "3 1 \n",
      "4 5 \n"
     ]
    }
   ],
   "source": [
    "from collections import deque\n",
    "\n",
    "class Node:\n",
    "\n",
    "    def __init__(self, key):\n",
    "\n",
    "        self.data = key\n",
    "        self.left = None\n",
    "        self.right = None\n",
    "\n",
    "def flipBinaryTree(root):\n",
    "\n",
    "    curr = root\n",
    "    next = None\n",
    "    temp = None\n",
    "    prev = None\n",
    "\n",
    "    while(curr):\n",
    "        next = curr.left\n",
    "        curr.left = temp\n",
    "        temp = curr.right\n",
    "        curr.right = prev\n",
    "\n",
    "        prev = curr\n",
    "        curr = next\n",
    "    return prev\n",
    "\n",
    "def printLevelOrder(root):\n",
    "\n",
    "    if (root == None):\n",
    "        return\n",
    "\n",
    "    q = deque()\n",
    "    q.append(root)\n",
    "\n",
    "    while (1):\n",
    "\n",
    "        nodeCount = len(q)\n",
    "        if (nodeCount == 0):\n",
    "            break\n",
    "\n",
    "        while (nodeCount > 0):\n",
    "            node = q.popleft()\n",
    "            print(node.data, end = \" \")\n",
    "\n",
    "            if (node.left != None):\n",
    "                q.append(node.left)\n",
    "\n",
    "            if (node.right != None):\n",
    "                q.append(node.right)\n",
    "            nodeCount -= 1\n",
    "\n",
    "        print()\n",
    "\n",
    "\n",
    "\n",
    "root = Node(1)\n",
    "root.left = Node(2)\n",
    "root.right = Node(3)\n",
    "root.right.left = Node(4)\n",
    "root.right.right = Node(5)\n",
    "\n",
    "print(\"Given tree\")\n",
    "printLevelOrder(root)\n",
    "\n",
    "Root = flipBinaryTree(root)\n",
    "\n",
    "print(\"\\nFlipped Tree\")\n",
    "printLevelOrder(Root)\n"
   ]
  },
  {
   "cell_type": "markdown",
   "id": "24ec5691",
   "metadata": {},
   "source": [
    "3"
   ]
  },
  {
   "cell_type": "code",
   "execution_count": 3,
   "id": "51b1f9e6",
   "metadata": {},
   "outputs": [
    {
     "name": "stdout",
     "output_type": "stream",
     "text": [
      "6 -> 3 -> 2 -> \n",
      "6 -> 3 -> 5 -> 7 -> \n",
      "6 -> 3 -> 5 -> 4 -> \n",
      "6 -> 5 -> 4 -> \n"
     ]
    }
   ],
   "source": [
    "\n",
    "class Node:\n",
    "    def __init__(self, data):\n",
    "        self.data = data\n",
    "        self.left = None\n",
    "        self.right = None\n",
    "\n",
    "def newNode(data):\n",
    "    temp = Node(data)\n",
    "    return temp\n",
    "\n",
    "def isleafnode(root):\n",
    "    return not root.left and not root.right\n",
    "\n",
    "def printRootToLeaf(root):\n",
    "\n",
    "    if not root:\n",
    "        return\n",
    "\n",
    "    path = \"\"\n",
    "    s = []\n",
    "    s.append((root, path))\n",
    "\n",
    "    while len(s) > 0:\n",
    "        it = s.pop()\n",
    "        root = it[0]\n",
    "        path = it[1]\n",
    "\n",
    "        curr = str(root.data) + \" -> \"\n",
    "        path += curr\n",
    "\n",
    "        if isleafnode(root):\n",
    "            print(path)\n",
    "\n",
    "        if root.right:\n",
    "            s.append((root.right, path))\n",
    "        if root.left:\n",
    "            s.append((root.left, path))\n",
    "\n",
    "\n",
    "\n",
    "root = newNode(6)\n",
    "root.left = newNode(3)\n",
    "root.right = newNode(5)\n",
    "root.left.left = newNode(2)\n",
    "root.left.right = newNode(5)\n",
    "root.right.right = newNode(4)\n",
    "root.left.right.left = newNode(7)\n",
    "root.left.right.right = newNode(4)\n",
    "\n",
    "printRootToLeaf(root)"
   ]
  },
  {
   "cell_type": "code",
   "execution_count": null,
   "id": "e438360c",
   "metadata": {},
   "outputs": [],
   "source": []
  }
 ],
 "metadata": {
  "kernelspec": {
   "display_name": "Python 3 (ipykernel)",
   "language": "python",
   "name": "python3"
  },
  "language_info": {
   "codemirror_mode": {
    "name": "ipython",
    "version": 3
   },
   "file_extension": ".py",
   "mimetype": "text/x-python",
   "name": "python",
   "nbconvert_exporter": "python",
   "pygments_lexer": "ipython3",
   "version": "3.11.0"
  }
 },
 "nbformat": 4,
 "nbformat_minor": 5
}
