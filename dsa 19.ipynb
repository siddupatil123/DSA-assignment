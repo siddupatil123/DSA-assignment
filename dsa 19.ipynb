{
 "cells": [
  {
   "cell_type": "markdown",
   "id": "80b2c512",
   "metadata": {},
   "source": [
    "Question 2 -💡 2. **Count of Smaller Numbers After Self**\n",
    "Given an integer array nums, return an integer array counts where counts[i] is the number of smaller elements to the right of nums[i].\n",
    "\n",
    "Example 1:\n",
    "\n",
    "Input: nums = [5,2,6,1]\n",
    "Output: [2,1,1,0]\n",
    "Explanation:\n",
    "To the right of 5 there are2 smaller elements (2 and 1).\n",
    "To the right of 2 there is only1 smaller element (1).\n",
    "To the right of 6 there is1 smaller element (1).\n",
    "To the right of 1 there is0 smaller element.\n",
    "\n",
    "Example 2:\n",
    "\n",
    "Input: nums = [-1]\n",
    "Output: [0]\n",
    "\n",
    "Example 3:\n",
    "\n",
    "Input: nums = [-1,-1]\n",
    "Output: [0,0]\n",
    "\n",
    "Constraints:\n",
    "\n",
    "1 <= nums.length <= 100000\n",
    "-10000 <= nums[i] <= 10000"
   ]
  },
  {
   "cell_type": "code",
   "execution_count": 4,
   "id": "15d04b5c",
   "metadata": {},
   "outputs": [
    {
     "name": "stdout",
     "output_type": "stream",
     "text": [
      "[1, 2, 3, 5]\n"
     ]
    }
   ],
   "source": [
    "\n",
    "class Solution:\n",
    "    def sortArray(self, nums):\n",
    "        def merge_sort(arr):\n",
    "            if len(arr) <= 1:\n",
    "                return arr\n",
    "\n",
    "            mid = len(arr) // 2\n",
    "            left = merge_sort(arr[:mid])\n",
    "            right = merge_sort(arr[mid:])\n",
    "            return merge(left, right)\n",
    "\n",
    "        def merge(left, right):\n",
    "            merged = []\n",
    "            i, j = 0, 0\n",
    "\n",
    "            while i < len(left) and j < len(right):\n",
    "                if left[i] < right[j]:\n",
    "                    merged.append(left[i])\n",
    "                    i += 1\n",
    "                else:\n",
    "                    merged.append(right[j])\n",
    "                    j += 1\n",
    "\n",
    "            merged.extend(left[i:])\n",
    "            merged.extend(right[j:])\n",
    "            return merged\n",
    "\n",
    "        return merge_sort(nums)\n",
    "\n",
    "\n",
    "# Test case\n",
    "nums = [5, 2, 3, 1]\n",
    "solution = Solution()\n",
    "result = solution.sortArray(nums)\n",
    "print(result)\n"
   ]
  },
  {
   "cell_type": "code",
   "execution_count": 5,
   "id": "05715cc3",
   "metadata": {},
   "outputs": [
    {
     "name": "stdout",
     "output_type": "stream",
     "text": [
      "[1, 2, 3, 6, 0, 0, 0, 0]\n"
     ]
    }
   ],
   "source": [
    "\n",
    "class Move_0s_to_end:\n",
    "    def move(self,nums):\n",
    "        n=len(nums)\n",
    "\n",
    "        for i in range(0,n):\n",
    "            if nums[i]==0:\n",
    "                nums.remove(nums[i])\n",
    "                nums.append(0)\n",
    "        return nums\n",
    "\n",
    "\n",
    "obj3 = Move_0s_to_end()\n",
    "nums = [1,2,0,0,0,0,3,6]\n",
    "print(obj3.move(nums))"
   ]
  },
  {
   "cell_type": "code",
   "execution_count": 7,
   "id": "fc60541a",
   "metadata": {},
   "outputs": [
    {
     "name": "stdout",
     "output_type": "stream",
     "text": [
      "[1, 2, 3, 4, 4, 5, 6, 8]\n"
     ]
    }
   ],
   "source": [
    "def merge(arr1, arr2, n1, n2):\n",
    "    arr3 = [0] * (n1 + n2)\n",
    "    i = 0\n",
    "    j = 0\n",
    "    k = 0\n",
    "\n",
    "    while i < n1 and j < n2:\n",
    "        if arr1[i] < arr2[j]:\n",
    "            arr3[k] = arr1[i]\n",
    "            i += 1\n",
    "        else:\n",
    "            arr3[k] = arr2[j]\n",
    "            j += 1\n",
    "        k += 1\n",
    "\n",
    "    while i < n1:\n",
    "        arr3[k] = arr1[i]\n",
    "        i += 1\n",
    "        k += 1\n",
    "\n",
    "    while j < n2:\n",
    "        arr3[k] = arr2[j]\n",
    "        j += 1\n",
    "        k += 1\n",
    "\n",
    "    return arr3\n",
    "\n",
    "\n",
    "arr1 = [1, 3, 4, 5]\n",
    "n1 = len(arr1)\n",
    "\n",
    "arr2 = [2, 4, 6, 8]\n",
    "n2 = len(arr2)\n",
    "\n",
    "result = merge(arr1, arr2, n1, n2)\n",
    "print(result)\n"
   ]
  },
  {
   "cell_type": "code",
   "execution_count": 8,
   "id": "c4f58e31",
   "metadata": {},
   "outputs": [
    {
     "name": "stdout",
     "output_type": "stream",
     "text": [
      "[2]\n"
     ]
    }
   ],
   "source": [
    "\n",
    "class Intersection:\n",
    "    def intersect(self,nums1,nums2):\n",
    "        set1 = set(nums1)\n",
    "        set2 = set(nums2)\n",
    "\n",
    "        return list(set1.intersection(set2))\n",
    "\n",
    "\n",
    "obj6 = Intersection()\n",
    "nums1 = [1,2,2,1]\n",
    "nums2 = [2,2]\n",
    "print(obj6.intersect(nums1,nums2))"
   ]
  },
  {
   "cell_type": "code",
   "execution_count": 9,
   "id": "5c68295f",
   "metadata": {},
   "outputs": [
    {
     "name": "stdout",
     "output_type": "stream",
     "text": [
      "[4, 9]\n"
     ]
    }
   ],
   "source": [
    "\n",
    "class Intersection_2:\n",
    "    def intersect2(self,nums1,nums2):\n",
    "        nums1.sort()\n",
    "        nums2.sort()\n",
    "\n",
    "        if len(nums1) > len(nums2):\n",
    "            nums1, nums2 = nums2, nums1\n",
    "\n",
    "        res = []\n",
    "\n",
    "        p1=p2=0\n",
    "\n",
    "        while(p1 < len(nums1) and p2 < len(nums2)):\n",
    "            if nums1[p1] == nums2[p2]:\n",
    "                res.append(nums1[p1])\n",
    "                p1 += 1\n",
    "                p2 += 1\n",
    "            elif nums1[p1] < nums2[p2]:\n",
    "                p1 += 1\n",
    "            else:\n",
    "                p2 += 1\n",
    "\n",
    "        return res\n",
    "\n",
    "\n",
    "obj7 = Intersection_2()\n",
    "nums1 = [4,9,5]\n",
    "nums2 = [9,4,9,8,4]\n",
    "print(obj7.intersect2(nums1,nums2))\n",
    "     "
   ]
  },
  {
   "cell_type": "code",
   "execution_count": null,
   "id": "ec686dad",
   "metadata": {},
   "outputs": [],
   "source": []
  },
  {
   "cell_type": "code",
   "execution_count": null,
   "id": "385ccd5f",
   "metadata": {},
   "outputs": [],
   "source": []
  },
  {
   "cell_type": "code",
   "execution_count": null,
   "id": "7adb8e4c",
   "metadata": {},
   "outputs": [],
   "source": []
  },
  {
   "cell_type": "code",
   "execution_count": null,
   "id": "7bcb5de9",
   "metadata": {},
   "outputs": [],
   "source": []
  },
  {
   "cell_type": "code",
   "execution_count": null,
   "id": "0669329a",
   "metadata": {},
   "outputs": [],
   "source": []
  },
  {
   "cell_type": "code",
   "execution_count": null,
   "id": "da8d3e08",
   "metadata": {},
   "outputs": [],
   "source": []
  },
  {
   "cell_type": "code",
   "execution_count": null,
   "id": "2d572442",
   "metadata": {},
   "outputs": [],
   "source": []
  },
  {
   "cell_type": "code",
   "execution_count": null,
   "id": "589aa665",
   "metadata": {},
   "outputs": [],
   "source": []
  },
  {
   "cell_type": "code",
   "execution_count": null,
   "id": "6ef4405d",
   "metadata": {},
   "outputs": [],
   "source": []
  },
  {
   "cell_type": "code",
   "execution_count": null,
   "id": "cdef9d39",
   "metadata": {},
   "outputs": [],
   "source": []
  },
  {
   "cell_type": "code",
   "execution_count": null,
   "id": "224ee889",
   "metadata": {},
   "outputs": [],
   "source": []
  },
  {
   "cell_type": "code",
   "execution_count": null,
   "id": "5f92a759",
   "metadata": {},
   "outputs": [],
   "source": []
  },
  {
   "cell_type": "code",
   "execution_count": null,
   "id": "beb492bd",
   "metadata": {},
   "outputs": [],
   "source": []
  },
  {
   "cell_type": "code",
   "execution_count": null,
   "id": "15c23ee0",
   "metadata": {},
   "outputs": [],
   "source": []
  },
  {
   "cell_type": "code",
   "execution_count": null,
   "id": "b9adcee9",
   "metadata": {},
   "outputs": [],
   "source": []
  },
  {
   "cell_type": "code",
   "execution_count": null,
   "id": "1835b1db",
   "metadata": {},
   "outputs": [],
   "source": []
  },
  {
   "cell_type": "code",
   "execution_count": null,
   "id": "9f2fa388",
   "metadata": {},
   "outputs": [],
   "source": []
  },
  {
   "cell_type": "code",
   "execution_count": null,
   "id": "34125463",
   "metadata": {},
   "outputs": [],
   "source": []
  },
  {
   "cell_type": "code",
   "execution_count": null,
   "id": "13f12567",
   "metadata": {},
   "outputs": [],
   "source": []
  },
  {
   "cell_type": "code",
   "execution_count": null,
   "id": "f8d8649b",
   "metadata": {},
   "outputs": [],
   "source": []
  },
  {
   "cell_type": "code",
   "execution_count": null,
   "id": "039616fe",
   "metadata": {},
   "outputs": [],
   "source": []
  },
  {
   "cell_type": "code",
   "execution_count": null,
   "id": "9ef4cb05",
   "metadata": {},
   "outputs": [],
   "source": []
  },
  {
   "cell_type": "code",
   "execution_count": null,
   "id": "2f9349bf",
   "metadata": {},
   "outputs": [],
   "source": []
  }
 ],
 "metadata": {
  "kernelspec": {
   "display_name": "Python 3 (ipykernel)",
   "language": "python",
   "name": "python3"
  },
  "language_info": {
   "codemirror_mode": {
    "name": "ipython",
    "version": 3
   },
   "file_extension": ".py",
   "mimetype": "text/x-python",
   "name": "python",
   "nbconvert_exporter": "python",
   "pygments_lexer": "ipython3",
   "version": "3.11.0"
  }
 },
 "nbformat": 4,
 "nbformat_minor": 5
}
