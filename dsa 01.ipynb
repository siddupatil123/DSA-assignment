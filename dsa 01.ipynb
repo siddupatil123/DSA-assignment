{
 "cells": [
  {
   "cell_type": "code",
   "execution_count": null,
   "id": "a4d39cab",
   "metadata": {},
   "outputs": [],
   "source": [
    "\n",
    "💡 **Q1.** Given an array of integers nums and an integer target, return indices of the two numbers such that they add up to target.\n",
    "\n",
    "You may assume that each input would have exactly one solution, and you may not use the same element twice.\n",
    "\n",
    "You can return the answer in any"
   ]
  },
  {
   "cell_type": "code",
   "execution_count": 1,
   "id": "b1597480",
   "metadata": {},
   "outputs": [],
   "source": [
    "def sum(nums, target):\n",
    "    \n",
    "    complements = {}\n",
    "\n",
    "    for i, num in enumerate(nums):\n",
    "        \n",
    "        if num in complements:\n",
    "            \n",
    "            return [complements[num], i]\n",
    "        else:\n",
    "            \n",
    "            complements[target - num] = i\n",
    "\n",
    "    return []"
   ]
  },
  {
   "cell_type": "code",
   "execution_count": 2,
   "id": "5a64e6dc",
   "metadata": {},
   "outputs": [
    {
     "data": {
      "text/plain": [
       "[0, 1]"
      ]
     },
     "execution_count": 2,
     "metadata": {},
     "output_type": "execute_result"
    }
   ],
   "source": [
    "sum([2,7,11,15],9)"
   ]
  },
  {
   "cell_type": "code",
   "execution_count": null,
   "id": "f313b6a3",
   "metadata": {},
   "outputs": [],
   "source": [
    "\n",
    "💡 **Q2.** Given an integer array nums and an integer val, remove all occurrences of val in nums in-place. The order of the elements may be changed. Then return the number of elements in nums which are not equal to val.\n",
    "\n",
    "Consider the number of elements in nums which are not equal to val be k, to get accepted, you need to do the following things:\n",
    "\n",
    "- Change the array nums such that the first k elements of nums contain the elements which are not equal to val. The remaining elements of nums are not important as well as the size of nums.\n",
    "- Return k."
   ]
  },
  {
   "cell_type": "code",
   "execution_count": 5,
   "id": "c331e368",
   "metadata": {},
   "outputs": [],
   "source": [
    "def remove(nums, val):\n",
    "    i = 0\n",
    "    k = 0\n",
    "\n",
    "    for num in nums:\n",
    "        if num != val:\n",
    "            nums[i] = num\n",
    "            i =i+1\n",
    "            k =k+1\n",
    "\n",
    "    return k\n",
    "    print(k)\n",
    "        "
   ]
  },
  {
   "cell_type": "code",
   "execution_count": 6,
   "id": "ba630572",
   "metadata": {},
   "outputs": [
    {
     "data": {
      "text/plain": [
       "2"
      ]
     },
     "execution_count": 6,
     "metadata": {},
     "output_type": "execute_result"
    }
   ],
   "source": [
    "remove([3,2,2,3],3)"
   ]
  },
  {
   "cell_type": "code",
   "execution_count": null,
   "id": "589cdd5b",
   "metadata": {},
   "outputs": [],
   "source": [
    "\n",
    "💡 **Q3.** Given a sorted array of distinct integers and a target value, return the index if the target is found. If not, return the index where it would be if it were inserted in order.\n",
    "\n",
    "You must write an algorithm with O(log n) runtime complexity.\n"
   ]
  },
  {
   "cell_type": "code",
   "execution_count": 7,
   "id": "7df442ea",
   "metadata": {},
   "outputs": [],
   "source": [
    "def index(nums, target):\n",
    "    left = 0\n",
    "    right = len(nums) - 1\n",
    "\n",
    "    while left <= right:\n",
    "        mid = (left + right) // 2\n",
    "\n",
    "        if nums[mid] == target:\n",
    "            return mid\n",
    "        elif nums[mid] < target:\n",
    "            left = mid + 1\n",
    "        else:\n",
    "            right = mid - 1\n",
    "\n",
    "    return left\n"
   ]
  },
  {
   "cell_type": "code",
   "execution_count": 13,
   "id": "6aae17f4",
   "metadata": {},
   "outputs": [
    {
     "data": {
      "text/plain": [
       "2"
      ]
     },
     "execution_count": 13,
     "metadata": {},
     "output_type": "execute_result"
    }
   ],
   "source": [
    "index([1,3,5,6],5)"
   ]
  },
  {
   "cell_type": "code",
   "execution_count": null,
   "id": "13251bf3",
   "metadata": {},
   "outputs": [],
   "source": [
    "\n",
    "💡 **Q4.** You are given a large integer represented as an integer array digits, where each digits[i] is the ith digit of the integer. The digits are ordered from most significant to least significant in left-to-right order. The large integer does not contain any leading 0's.\n",
    "\n",
    "Increment the large integer by one and return the resulting array of digits.\n"
   ]
  },
  {
   "cell_type": "code",
   "execution_count": 14,
   "id": "62041fc6",
   "metadata": {},
   "outputs": [],
   "source": [
    "def addone(nums):\n",
    "    n = len(nums)\n",
    "    c= 1\n",
    "\n",
    "    for i in range(n - 1, -1, -1):\n",
    "        nums[i] += c\n",
    "        if nums[i] == 10:\n",
    "            nums[i] = 0\n",
    "            c = 1\n",
    "        else:\n",
    "            c = 0\n",
    "            break\n",
    "\n",
    "    if c == 1:\n",
    "        nums.insert(0, c)\n",
    "\n",
    "    return nums"
   ]
  },
  {
   "cell_type": "code",
   "execution_count": 15,
   "id": "2b86fb22",
   "metadata": {},
   "outputs": [
    {
     "data": {
      "text/plain": [
       "[1, 2, 4]"
      ]
     },
     "execution_count": 15,
     "metadata": {},
     "output_type": "execute_result"
    }
   ],
   "source": [
    "addone([1,2,3])"
   ]
  },
  {
   "cell_type": "code",
   "execution_count": null,
   "id": "f32950a1",
   "metadata": {},
   "outputs": [],
   "source": [
    "\n",
    "💡 **Q5.** You are given two integer arrays nums1 and nums2, sorted in non-decreasing order, and two integers m and n, representing the number of elements in nums1 and nums2 respectively.\n",
    "\n",
    "Merge nums1 and nums2 into a single array sorted in non-decreasing order.\n",
    "\n",
    "The final sorted array should not be returned by the function, but instead be stored inside the array nums1. To accommodate this, nums1 has a length of m + n, where the first m elements denote the elements that should be merged, and the last n elements are set to 0 and should be ignored. nums2 has a length of n.\n"
   ]
  },
  {
   "cell_type": "code",
   "execution_count": 19,
   "id": "3bb0a7d4",
   "metadata": {},
   "outputs": [],
   "source": [
    "def concate(n1, m, n2, n3):\n",
    "    p1 = m - 1\n",
    "    p2 = n3 - 1\n",
    "    p = m + n3 - 1\n",
    "\n",
    "    while p1 >= 0 and p2 >= 0:\n",
    "        if n1[p1] >= n2[p2]:\n",
    "            n1[p] = n1[p1]\n",
    "            p1 -= 1\n",
    "        else:\n",
    "            n1[p] = n2[p2]\n",
    "            p2 -= 1\n",
    "        p -= 1\n",
    "\n",
    "   \n",
    "    n1[:p2 + 1] = n2[:p2 + 1]\n",
    "    print(n1)"
   ]
  },
  {
   "cell_type": "code",
   "execution_count": 20,
   "id": "12363ce8",
   "metadata": {},
   "outputs": [
    {
     "name": "stdout",
     "output_type": "stream",
     "text": [
      "[1, 2, 2, 3, 5, 6]\n"
     ]
    }
   ],
   "source": [
    "concate([1,2,3,0,0,0],3,[2,5,6],3)"
   ]
  },
  {
   "cell_type": "code",
   "execution_count": null,
   "id": "fd198e2d",
   "metadata": {},
   "outputs": [],
   "source": [
    "Q6. Given an integer array nums, return true if any value appears at least twice in the array, and return false if every element is distinct."
   ]
  },
  {
   "cell_type": "code",
   "execution_count": 21,
   "id": "09e1dc67",
   "metadata": {},
   "outputs": [],
   "source": [
    "def test(nums):\n",
    "    s = set()\n",
    "\n",
    "    for num in nums:\n",
    "        if num in s:\n",
    "            return True\n",
    "        s.add(num)\n",
    "\n",
    "    return False\n"
   ]
  },
  {
   "cell_type": "code",
   "execution_count": 22,
   "id": "49a78c1f",
   "metadata": {},
   "outputs": [
    {
     "data": {
      "text/plain": [
       "True"
      ]
     },
     "execution_count": 22,
     "metadata": {},
     "output_type": "execute_result"
    }
   ],
   "source": [
    "test([1,2,3,1])"
   ]
  },
  {
   "cell_type": "code",
   "execution_count": null,
   "id": "acd68093",
   "metadata": {},
   "outputs": [],
   "source": [
    "\n",
    "💡 **Q7.** Given an integer array nums, move all 0's to the end of it while maintaining the relative order of the nonzero elements.\n",
    "\n",
    "Note that you must do this in-place without making a copy of the array.\n"
   ]
  },
  {
   "cell_type": "code",
   "execution_count": 25,
   "id": "cbf365e3",
   "metadata": {},
   "outputs": [],
   "source": [
    "def test2(nums):\n",
    "    p = 0\n",
    "\n",
    "    for num in nums:\n",
    "        if num != 0:\n",
    "            nums[p] = num\n",
    "            p += 1\n",
    "\n",
    "    for i in range(p, len(nums)):\n",
    "        nums[i] = 0\n",
    "        print(nums)"
   ]
  },
  {
   "cell_type": "code",
   "execution_count": 26,
   "id": "7564e35a",
   "metadata": {},
   "outputs": [
    {
     "name": "stdout",
     "output_type": "stream",
     "text": [
      "[1, 3, 12, 0, 12]\n",
      "[1, 3, 12, 0, 0]\n"
     ]
    }
   ],
   "source": [
    "test2([0,1,0,3,12])"
   ]
  },
  {
   "cell_type": "code",
   "execution_count": null,
   "id": "91c3d070",
   "metadata": {},
   "outputs": [],
   "source": [
    "\n",
    "💡 **Q8.** You have a set of integers s, which originally contains all the numbers from 1 to n. Unfortunately, due to some error, one of the numbers in s got duplicated to another number in the set, which results in repetition of one number and loss of another number.\n",
    "\n",
    "You are given an integer array nums representing the data status of this set after the error.\n",
    "\n",
    "Find the number that occurs twice and the number that is missing and return them in the form of an array.\n"
   ]
  },
  {
   "cell_type": "code",
   "execution_count": 28,
   "id": "d3171620",
   "metadata": {},
   "outputs": [],
   "source": [
    "def finderrornums(nums):\n",
    "    seen = set()\n",
    "    duplicate = 0\n",
    "    totalSum = 0\n",
    "\n",
    "    for num in nums:\n",
    "        if num in seen:\n",
    "            duplicate = num\n",
    "        seen.add(num)\n",
    "        totalSum += num\n",
    "\n",
    "    n = len(nums)\n",
    "    expectedSum = n * (n + 1) // 2\n",
    "    missing = expectedSum - (totalSum - duplicate)\n",
    "\n",
    "    return [duplicate, missing]"
   ]
  },
  {
   "cell_type": "code",
   "execution_count": 29,
   "id": "ac6f011d",
   "metadata": {},
   "outputs": [
    {
     "data": {
      "text/plain": [
       "[2, 3]"
      ]
     },
     "execution_count": 29,
     "metadata": {},
     "output_type": "execute_result"
    }
   ],
   "source": [
    "finderrornums([1,2,2,4])"
   ]
  },
  {
   "cell_type": "code",
   "execution_count": null,
   "id": "28c1a003",
   "metadata": {},
   "outputs": [],
   "source": []
  }
 ],
 "metadata": {
  "kernelspec": {
   "display_name": "Python 3 (ipykernel)",
   "language": "python",
   "name": "python3"
  },
  "language_info": {
   "codemirror_mode": {
    "name": "ipython",
    "version": 3
   },
   "file_extension": ".py",
   "mimetype": "text/x-python",
   "name": "python",
   "nbconvert_exporter": "python",
   "pygments_lexer": "ipython3",
   "version": "3.11.0"
  }
 },
 "nbformat": 4,
 "nbformat_minor": 5
}
