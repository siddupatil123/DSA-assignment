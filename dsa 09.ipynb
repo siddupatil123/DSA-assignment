{
 "cells": [
  {
   "cell_type": "code",
   "execution_count": null,
   "id": "7351ce4a",
   "metadata": {},
   "outputs": [],
   "source": [
    "<aside>\n",
    "💡 **Question 1**\n",
    "\n",
    "Given an integer `n`, return *`true` if it is a power of two. Otherwise, return `false`*.\n",
    "\n",
    "An integer `n` is a power of two, if there exists an integer `x` such that `n == 2x`.\n",
    "\n",
    "</aside>"
   ]
  },
  {
   "cell_type": "code",
   "execution_count": 1,
   "id": "ecfe94e7",
   "metadata": {},
   "outputs": [],
   "source": [
    "def isPowerOfTwo(n):\n",
    "    if n <= 0:\n",
    "        return False\n",
    "    return n & (n - 1) == 0\n"
   ]
  },
  {
   "cell_type": "code",
   "execution_count": 2,
   "id": "46f2a291",
   "metadata": {},
   "outputs": [
    {
     "data": {
      "text/plain": [
       "True"
      ]
     },
     "execution_count": 2,
     "metadata": {},
     "output_type": "execute_result"
    }
   ],
   "source": [
    " isPowerOfTwo(1)"
   ]
  },
  {
   "cell_type": "code",
   "execution_count": null,
   "id": "b73dc438",
   "metadata": {},
   "outputs": [],
   "source": [
    "<aside>\n",
    "💡 **Question 2**\n",
    "\n",
    "Given a number n, find the sum of the first natural numbers.\n",
    "\n",
    "</aside>"
   ]
  },
  {
   "cell_type": "code",
   "execution_count": 8,
   "id": "ecddc590",
   "metadata": {},
   "outputs": [],
   "source": [
    "def sumOfFirstNNumbers(n):\n",
    "    return (n * (n + 1)) // 2\n"
   ]
  },
  {
   "cell_type": "code",
   "execution_count": 9,
   "id": "4ae36cd9",
   "metadata": {},
   "outputs": [
    {
     "data": {
      "text/plain": [
       "6"
      ]
     },
     "execution_count": 9,
     "metadata": {},
     "output_type": "execute_result"
    }
   ],
   "source": [
    " sumOfFirstNNumbers(3)"
   ]
  },
  {
   "cell_type": "code",
   "execution_count": null,
   "id": "a499eddf",
   "metadata": {},
   "outputs": [],
   "source": [
    "<aside>\n",
    "💡 **Question 3**\n",
    "\n",
    "****Given a positive integer, N. Find the factorial of N. \n",
    "\n",
    "</aside>"
   ]
  },
  {
   "cell_type": "code",
   "execution_count": 10,
   "id": "2ffbeb92",
   "metadata": {},
   "outputs": [],
   "source": [
    "def factorial(N):\n",
    "    if N == 0 or N == 1:\n",
    "        return 1\n",
    "    else:\n",
    "        result = 1\n",
    "        for i in range(2, N + 1):\n",
    "            result *= i\n",
    "        return result\n"
   ]
  },
  {
   "cell_type": "code",
   "execution_count": 11,
   "id": "9deab77f",
   "metadata": {},
   "outputs": [
    {
     "data": {
      "text/plain": [
       "120"
      ]
     },
     "execution_count": 11,
     "metadata": {},
     "output_type": "execute_result"
    }
   ],
   "source": [
    "factorial(5)"
   ]
  },
  {
   "cell_type": "code",
   "execution_count": null,
   "id": "fec0d566",
   "metadata": {},
   "outputs": [],
   "source": [
    "<aside>\n",
    "💡 **Question 4**\n",
    "\n",
    "Given a number N and a power P, the task is to find the exponent of this number raised to the given power, i.e. N^P.\n",
    "\n",
    "</aside>"
   ]
  },
  {
   "cell_type": "code",
   "execution_count": 12,
   "id": "f9f552f9",
   "metadata": {},
   "outputs": [],
   "source": [
    "def power(N, P):\n",
    "    result = N ** P\n",
    "    return result\n"
   ]
  },
  {
   "cell_type": "code",
   "execution_count": 13,
   "id": "60003c6b",
   "metadata": {},
   "outputs": [
    {
     "data": {
      "text/plain": [
       "25"
      ]
     },
     "execution_count": 13,
     "metadata": {},
     "output_type": "execute_result"
    }
   ],
   "source": [
    "power(5,2)"
   ]
  },
  {
   "cell_type": "code",
   "execution_count": null,
   "id": "7d3f352c",
   "metadata": {},
   "outputs": [],
   "source": [
    "<aside>\n",
    "💡 **Question 5**\n",
    "\n",
    "Given an array of integers **arr**, the task is to find maximum element of that array using recursion.\n",
    "\n",
    "</aside>"
   ]
  },
  {
   "cell_type": "code",
   "execution_count": 23,
   "id": "c6fa803e",
   "metadata": {},
   "outputs": [],
   "source": [
    "def findMax(arr):\n",
    "    if len(arr) == 1:\n",
    "        return arr[0]\n",
    "    else:\n",
    "        return max(arr[0], findMax(arr[1:]))\n",
    "\n",
    "\n"
   ]
  },
  {
   "cell_type": "code",
   "execution_count": 25,
   "id": "4e4543f7",
   "metadata": {},
   "outputs": [
    {
     "data": {
      "text/plain": [
       "8"
      ]
     },
     "execution_count": 25,
     "metadata": {},
     "output_type": "execute_result"
    }
   ],
   "source": [
    "findMax([1, 4, 3, -5, -4, 8, 6])"
   ]
  },
  {
   "cell_type": "code",
   "execution_count": null,
   "id": "1bcd30d0",
   "metadata": {},
   "outputs": [],
   "source": [
    "<aside>\n",
    "💡 **Question 6**\n",
    "\n",
    "Given first term (a), common difference (d) and a integer N of the Arithmetic Progression series, the task is to find Nth term of the series.\n",
    "\n",
    "</aside>"
   ]
  },
  {
   "cell_type": "code",
   "execution_count": 26,
   "id": "412bdb30",
   "metadata": {},
   "outputs": [],
   "source": [
    "def findNthTerm(a, d, N):\n",
    "    nth_term = a + (N - 1) * d\n",
    "    return nth_term\n"
   ]
  },
  {
   "cell_type": "code",
   "execution_count": 27,
   "id": "24a7ff89",
   "metadata": {},
   "outputs": [
    {
     "data": {
      "text/plain": [
       "6"
      ]
     },
     "execution_count": 27,
     "metadata": {},
     "output_type": "execute_result"
    }
   ],
   "source": [
    "findNthTerm(2,1,5)"
   ]
  },
  {
   "cell_type": "code",
   "execution_count": null,
   "id": "adfe9105",
   "metadata": {},
   "outputs": [],
   "source": [
    "<aside>\n",
    "💡 **Question 7**\n",
    "\n",
    "Given a string S, the task is to write a program to print all permutations of a given string.\n",
    "\n",
    "</aside>"
   ]
  },
  {
   "cell_type": "code",
   "execution_count": 28,
   "id": "d58e1a36",
   "metadata": {},
   "outputs": [],
   "source": [
    "def permutations(S, current=\"\"):\n",
    "    if len(S) == 0:\n",
    "        print(current)\n",
    "    else:\n",
    "        for i in range(len(S)):\n",
    "            permutations(S[:i] + S[i+1:], current + S[i])\n",
    "\n",
    "\n"
   ]
  },
  {
   "cell_type": "code",
   "execution_count": 29,
   "id": "d3fecce8",
   "metadata": {},
   "outputs": [
    {
     "name": "stdout",
     "output_type": "stream",
     "text": [
      "abc\n",
      "acb\n",
      "bac\n",
      "bca\n",
      "cab\n",
      "cba\n"
     ]
    }
   ],
   "source": [
    "permutations(\"abc\", current=\"\")"
   ]
  },
  {
   "cell_type": "code",
   "execution_count": null,
   "id": "ec6f7544",
   "metadata": {},
   "outputs": [],
   "source": [
    "<aside>\n",
    "💡 **Question 8**\n",
    "\n",
    "Given an array, find a product of all array elements.\n",
    "\n",
    "</aside>"
   ]
  },
  {
   "cell_type": "code",
   "execution_count": 30,
   "id": "c5fc4a2f",
   "metadata": {},
   "outputs": [],
   "source": [
    "def productOfArrayElements(arr):\n",
    "    product = 1\n",
    "    for element in arr:\n",
    "        product *= element\n",
    "    return product\n"
   ]
  },
  {
   "cell_type": "code",
   "execution_count": 31,
   "id": "a69158ef",
   "metadata": {},
   "outputs": [
    {
     "data": {
      "text/plain": [
       "120"
      ]
     },
     "execution_count": 31,
     "metadata": {},
     "output_type": "execute_result"
    }
   ],
   "source": [
    "productOfArrayElements( {1, 2, 3, 4, 5})"
   ]
  },
  {
   "cell_type": "code",
   "execution_count": null,
   "id": "55339552",
   "metadata": {},
   "outputs": [],
   "source": []
  },
  {
   "cell_type": "code",
   "execution_count": null,
   "id": "6edd19dd",
   "metadata": {},
   "outputs": [],
   "source": []
  }
 ],
 "metadata": {
  "kernelspec": {
   "display_name": "Python 3 (ipykernel)",
   "language": "python",
   "name": "python3"
  },
  "language_info": {
   "codemirror_mode": {
    "name": "ipython",
    "version": 3
   },
   "file_extension": ".py",
   "mimetype": "text/x-python",
   "name": "python",
   "nbconvert_exporter": "python",
   "pygments_lexer": "ipython3",
   "version": "3.11.0"
  }
 },
 "nbformat": 4,
 "nbformat_minor": 5
}
