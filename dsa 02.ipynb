{
 "cells": [
  {
   "cell_type": "code",
   "execution_count": null,
   "id": "955498d0",
   "metadata": {},
   "outputs": [],
   "source": [
    "Question 1\n",
    "Given an integer array nums of 2n integers, group these integers into n pairs (a1, b1), (a2, b2),..., (an, bn) such that the sum of min(ai, bi) for all i is maximized. Return the maximized sum."
   ]
  },
  {
   "cell_type": "code",
   "execution_count": 9,
   "id": "1f307b6e",
   "metadata": {},
   "outputs": [],
   "source": [
    "def sum(nums):\n",
    "    nums.sort()\n",
    "    max_sum =0\n",
    "\n",
    "    for i in range(0, len(nums), 2):\n",
    "        max_sum += nums[i]\n",
    "\n",
    "    return max_sum"
   ]
  },
  {
   "cell_type": "code",
   "execution_count": 10,
   "id": "ce30a93d",
   "metadata": {},
   "outputs": [
    {
     "data": {
      "text/plain": [
       "4"
      ]
     },
     "execution_count": 10,
     "metadata": {},
     "output_type": "execute_result"
    }
   ],
   "source": [
    "sum([1,4,3,2])"
   ]
  },
  {
   "cell_type": "code",
   "execution_count": null,
   "id": "c49da22e",
   "metadata": {},
   "outputs": [],
   "source": [
    "Question 2\n",
    "Alice has n candies, where the ith candy is of type candyType[i]. Alice noticed that she started to gain weight, so she visited a doctor. \n",
    "\n",
    "The doctor advised Alice to only eat n / 2 of the candies she has (n is always even). Alice likes her candies very much, and she wants to eat the maximum number of different types of candies while still following the doctor's advice. \n",
    "\n",
    "Given the integer array candyType of length n, return the maximum number of different types of candies she can eat if she only eats n / 2 of them."
   ]
  },
  {
   "cell_type": "code",
   "execution_count": 11,
   "id": "cd21c9e9",
   "metadata": {},
   "outputs": [],
   "source": [
    "def candy(candyType):\n",
    "    uc = set()\n",
    "\n",
    "    for candy in candyType:\n",
    "        uc.add(candy)\n",
    "        if len(uc) == len(candyType) // 2:\n",
    "            break\n",
    "\n",
    "    return min(len(uc), len(candyType) // 2)"
   ]
  },
  {
   "cell_type": "code",
   "execution_count": 12,
   "id": "3858c2af",
   "metadata": {},
   "outputs": [
    {
     "data": {
      "text/plain": [
       "3"
      ]
     },
     "execution_count": 12,
     "metadata": {},
     "output_type": "execute_result"
    }
   ],
   "source": [
    "candy([1,1,2,2,3,3])"
   ]
  },
  {
   "cell_type": "code",
   "execution_count": null,
   "id": "b7967018",
   "metadata": {},
   "outputs": [],
   "source": [
    "Question 3\n",
    "We define a harmonious array as an array where the difference between its maximum value\n",
    "and its minimum value is exactly 1.\n",
    "\n",
    "Given an integer array nums, return the length of its longest harmonious subsequence\n",
    "among all its possible subsequences.\n",
    "\n",
    "A subsequence of an array is a sequence that can be derived from the array by deleting some or no elements without changing the order of the remaining element"
   ]
  },
  {
   "cell_type": "code",
   "execution_count": 13,
   "id": "a307b4eb",
   "metadata": {},
   "outputs": [],
   "source": [
    "def find(nums):\n",
    "    countMap = {}\n",
    "    for num in nums:\n",
    "        countMap[num] = countMap.get(num, 0) + 1\n",
    "\n",
    "    maxLen = 0\n",
    "    for num in countMap:\n",
    "        if num + 1 in countMap:\n",
    "            maxLen = max(maxLen, countMap[num] + countMap[num + 1])\n",
    "\n",
    "    return maxLen"
   ]
  },
  {
   "cell_type": "code",
   "execution_count": 14,
   "id": "97ea9a05",
   "metadata": {},
   "outputs": [
    {
     "data": {
      "text/plain": [
       "5"
      ]
     },
     "execution_count": 14,
     "metadata": {},
     "output_type": "execute_result"
    }
   ],
   "source": [
    "find( [1,3,2,2,5,2,3,7])"
   ]
  },
  {
   "cell_type": "code",
   "execution_count": null,
   "id": "fedd79d3",
   "metadata": {},
   "outputs": [],
   "source": [
    "Question 4\n",
    "You have a long flowerbed in which some of the plots are planted, and some are not.\n",
    "However, flowers cannot be planted in adjacent plots.\n",
    "Given an integer array flowerbed containing 0's and 1's, where 0 means empty and 1 means not empty, and an integer n, return true if n new flowers can be planted in the flowerbed without violating the no-adjacent-flowers rule and false otherwise."
   ]
  },
  {
   "cell_type": "code",
   "execution_count": 16,
   "id": "b989b6d1",
   "metadata": {},
   "outputs": [],
   "source": [
    "def flower(flowerbed, n):\n",
    "    count = 0\n",
    "    for i in range(len(flowerbed)):\n",
    "        if flowerbed[i] == 0 and (i == 0 or flowerbed[i - 1] == 0) and (i == len(flowerbed) - 1 or flowerbed[i + 1] == 0):\n",
    "            flowerbed[i] = 1\n",
    "            count += 1\n",
    "            n -= 1\n",
    "            if n <= 0:\n",
    "                return True\n",
    "    return False"
   ]
  },
  {
   "cell_type": "code",
   "execution_count": 17,
   "id": "68ead17e",
   "metadata": {},
   "outputs": [
    {
     "data": {
      "text/plain": [
       "True"
      ]
     },
     "execution_count": 17,
     "metadata": {},
     "output_type": "execute_result"
    }
   ],
   "source": [
    "flower([1,0,0,0,1],1)"
   ]
  },
  {
   "cell_type": "code",
   "execution_count": null,
   "id": "ed9159d7",
   "metadata": {},
   "outputs": [],
   "source": [
    "Question 5\n",
    "Given an integer array nums, find three numbers whose product is maximum and return the maximum product."
   ]
  },
  {
   "cell_type": "code",
   "execution_count": 18,
   "id": "47e525cc",
   "metadata": {},
   "outputs": [],
   "source": [
    "def maximumProduct(nums):\n",
    "    nums.sort()\n",
    "    product1 = nums[-1] * nums[-2] * nums[-3]\n",
    "    product2 = nums[0] * nums[1] * nums[-1]\n",
    "    return max(product1, product2)"
   ]
  },
  {
   "cell_type": "code",
   "execution_count": 19,
   "id": "fd6ed6ff",
   "metadata": {},
   "outputs": [
    {
     "data": {
      "text/plain": [
       "6"
      ]
     },
     "execution_count": 19,
     "metadata": {},
     "output_type": "execute_result"
    }
   ],
   "source": [
    "maximumProduct([1,2,3])"
   ]
  },
  {
   "cell_type": "code",
   "execution_count": null,
   "id": "13131258",
   "metadata": {},
   "outputs": [],
   "source": [
    "Question 6\n",
    "Given an array of integers nums which is sorted in ascending order, and an integer target,\n",
    "write a function to search target in nums. If target exists, then return its index. Otherwise,\n",
    "return -1.\n",
    "\n",
    "You must write an algorithm with O(log n) runtime complexit"
   ]
  },
  {
   "cell_type": "code",
   "execution_count": 20,
   "id": "5fc3697d",
   "metadata": {},
   "outputs": [],
   "source": [
    "def search(nums, target):\n",
    "    l = 0\n",
    "    r= len(nums) - 1\n",
    "\n",
    "    while l <= r:\n",
    "        mid = l + (r - l) // 2\n",
    "\n",
    "        if nums[mid] == target:\n",
    "            return mid\n",
    "        elif nums[mid] > target:\n",
    "            r = mid - 1\n",
    "        else:\n",
    "            l = mid + 1\n",
    "\n",
    "    return -1"
   ]
  },
  {
   "cell_type": "code",
   "execution_count": 21,
   "id": "ced4e317",
   "metadata": {},
   "outputs": [
    {
     "data": {
      "text/plain": [
       "4"
      ]
     },
     "execution_count": 21,
     "metadata": {},
     "output_type": "execute_result"
    }
   ],
   "source": [
    "search( [-1,0,3,5,9,12],9)"
   ]
  },
  {
   "cell_type": "code",
   "execution_count": null,
   "id": "5b1374b2",
   "metadata": {},
   "outputs": [],
   "source": [
    "Question 7\n",
    "An array is monotonic if it is either monotone increasing or monotone decreasing.\n",
    "\n",
    "An array nums is monotone increasing if for all i <= j, nums[i] <= nums[j]. An array nums is\n",
    "monotone decreasing if for all i <= j, nums[i] >= nums[j].\n",
    "\n",
    "Given an integer array nums, return true if the given array is monotonic, or false otherwise."
   ]
  },
  {
   "cell_type": "code",
   "execution_count": 22,
   "id": "95d627ce",
   "metadata": {},
   "outputs": [],
   "source": [
    "def isMonotonic(nums):\n",
    "    increasing = True\n",
    "    decreasing = True\n",
    "\n",
    "    for i in range(1, len(nums)):\n",
    "        if nums[i] > nums[i - 1]:\n",
    "            decreasing = False\n",
    "        if nums[i] < nums[i - 1]:\n",
    "            increasing = False\n",
    "\n",
    "    return increasing or decreasing"
   ]
  },
  {
   "cell_type": "code",
   "execution_count": 23,
   "id": "1379794a",
   "metadata": {},
   "outputs": [
    {
     "data": {
      "text/plain": [
       "True"
      ]
     },
     "execution_count": 23,
     "metadata": {},
     "output_type": "execute_result"
    }
   ],
   "source": [
    "isMonotonic([1,2,2,3])"
   ]
  },
  {
   "cell_type": "code",
   "execution_count": null,
   "id": "7e85d54c",
   "metadata": {},
   "outputs": [],
   "source": [
    "Question 8\n",
    "You are given an integer array nums and an integer k.\n",
    "\n",
    "In one operation, you can choose any index i where 0 <= i < nums.length and change nums[i] to nums[i] + x where x is an integer from the range [-k, k]. You can apply this operation at most once for each index i.\n",
    "\n",
    "The score of nums is the difference between the maximum and minimum elements in nums.\n",
    "\n",
    "Return the minimum score of nums after applying the mentioned operation at most once for each index in it."
   ]
  },
  {
   "cell_type": "code",
   "execution_count": 24,
   "id": "7cd6f773",
   "metadata": {},
   "outputs": [],
   "source": [
    "def score(nums, k):\n",
    "    min_score = float('inf')\n",
    "\n",
    "    for x in range(-k, k + 1):\n",
    "        max_val = float('-inf')\n",
    "        min_val = float('inf')\n",
    "\n",
    "        for num in nums:\n",
    "            max_val = max(max_val, num + x)\n",
    "            min_val = min(min_val, num + x)\n",
    "\n",
    "        min_score = min(min_score, max_val - min_val)\n",
    "\n",
    "    return min_score"
   ]
  },
  {
   "cell_type": "code",
   "execution_count": 25,
   "id": "afa23dc6",
   "metadata": {},
   "outputs": [
    {
     "data": {
      "text/plain": [
       "0"
      ]
     },
     "execution_count": 25,
     "metadata": {},
     "output_type": "execute_result"
    }
   ],
   "source": [
    "score([1],0)"
   ]
  },
  {
   "cell_type": "code",
   "execution_count": null,
   "id": "e52a26e4",
   "metadata": {},
   "outputs": [],
   "source": []
  }
 ],
 "metadata": {
  "kernelspec": {
   "display_name": "Python 3 (ipykernel)",
   "language": "python",
   "name": "python3"
  },
  "language_info": {
   "codemirror_mode": {
    "name": "ipython",
    "version": 3
   },
   "file_extension": ".py",
   "mimetype": "text/x-python",
   "name": "python",
   "nbconvert_exporter": "python",
   "pygments_lexer": "ipython3",
   "version": "3.11.0"
  }
 },
 "nbformat": 4,
 "nbformat_minor": 5
}
