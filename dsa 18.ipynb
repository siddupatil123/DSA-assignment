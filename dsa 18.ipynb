{
 "cells": [
  {
   "cell_type": "code",
   "execution_count": 1,
   "id": "8b5b7472",
   "metadata": {},
   "outputs": [
    {
     "name": "stdout",
     "output_type": "stream",
     "text": [
      "[[1, 6], [8, 10], [15, 18]]\n",
      "[[1, 5]]\n"
     ]
    }
   ],
   "source": [
    "\n",
    "def merge_intervals(intervals):\n",
    "\n",
    "    intervals.sort(key=lambda x: x[0])\n",
    "\n",
    "    merged = []\n",
    "\n",
    "    for interval in intervals:\n",
    "        if not merged or interval[0] > merged[-1][1]:\n",
    "\n",
    "            merged.append(interval)\n",
    "        else:\n",
    "\n",
    "            merged[-1][1] = max(merged[-1][1], interval[1])\n",
    "\n",
    "    return merged\n",
    "\n",
    "intervals1 = [[1, 3], [2, 6], [8, 10], [15, 18]]\n",
    "print(merge_intervals(intervals1))\n",
    "\n",
    "\n",
    "intervals2 = [[1, 4], [4, 5]]\n",
    "print(merge_intervals(intervals2))"
   ]
  },
  {
   "cell_type": "code",
   "execution_count": 2,
   "id": "a5b830ea",
   "metadata": {},
   "outputs": [
    {
     "name": "stdout",
     "output_type": "stream",
     "text": [
      "[0, 0, 1, 1, 2, 2]\n",
      "[0, 1, 2]\n"
     ]
    }
   ],
   "source": [
    "def sortColors(nums):\n",
    "    low = 0\n",
    "    mid = 0\n",
    "    high = len(nums) - 1\n",
    "\n",
    "    while mid <= high:\n",
    "        if nums[mid] == 0:\n",
    "            nums[low], nums[mid] = nums[mid], nums[low]\n",
    "            low += 1\n",
    "            mid += 1\n",
    "        elif nums[mid] == 1:\n",
    "            mid += 1\n",
    "        else:\n",
    "            nums[mid], nums[high] = nums[high], nums[mid]\n",
    "            high -= 1\n",
    "\n",
    "\n",
    "nums1 = [2, 0, 2, 1, 1, 0]\n",
    "sortColors(nums1)\n",
    "print(nums1)\n",
    "\n",
    "\n",
    "nums2 = [2, 0, 1]\n",
    "sortColors(nums2)\n",
    "print(nums2)"
   ]
  },
  {
   "cell_type": "code",
   "execution_count": 3,
   "id": "66a09ce1",
   "metadata": {},
   "outputs": [
    {
     "name": "stdout",
     "output_type": "stream",
     "text": [
      "3\n"
     ]
    }
   ],
   "source": [
    "\n",
    "bad = 0\n",
    "\n",
    "def isBadVersion(version):\n",
    "   if version >= bad:\n",
    "      return True\n",
    "   return False\n",
    "\n",
    "class checkVersion:\n",
    "   def firstBadVersion(self,n):\n",
    "      if n <2:\n",
    "         return n\n",
    "      start = 1\n",
    "      end = n\n",
    "      while(start<=end):\n",
    "         mid = (start+end)//2\n",
    "         if isBadVersion(mid) and not isBadVersion(mid-1):\n",
    "            return mid\n",
    "         elif isBadVersion(mid-1):\n",
    "            end = mid-1\n",
    "         else:\n",
    "            start = mid+1\n",
    "\n",
    "\n",
    "\n",
    "obj2 = checkVersion()\n",
    "bad = 3\n",
    "n = 7\n",
    "print(obj2.firstBadVersion(n))"
   ]
  },
  {
   "cell_type": "code",
   "execution_count": 4,
   "id": "5302e3f3",
   "metadata": {},
   "outputs": [
    {
     "name": "stdout",
     "output_type": "stream",
     "text": [
      "3\n",
      "0\n"
     ]
    }
   ],
   "source": [
    "\n",
    "def maximumGap(nums):\n",
    "    if len(nums) < 2:\n",
    "        return 0\n",
    "\n",
    "\n",
    "    max_num = max(nums)\n",
    "\n",
    "\n",
    "    exp = 1\n",
    "    while max_num // exp > 0:\n",
    "        countingSort(nums, exp)\n",
    "        exp *= 10\n",
    "\n",
    "\n",
    "    max_gap = 0\n",
    "    for i in range(1, len(nums)):\n",
    "        max_gap = max(max_gap, nums[i] - nums[i-1])\n",
    "\n",
    "    return max_gap\n",
    "\n",
    "\n",
    "def countingSort(nums, exp):\n",
    "    n = len(nums)\n",
    "    output = [0] * n\n",
    "    count = [0] * 10\n",
    "\n",
    "\n",
    "    for i in range(n):\n",
    "        digit = (nums[i] // exp) % 10\n",
    "        count[digit] += 1\n",
    "\n",
    "\n",
    "    for i in range(1, 10):\n",
    "        count[i] += count[i-1]\n",
    "\n",
    "\n",
    "    for i in range(n-1, -1, -1):\n",
    "        digit = (nums[i] // exp) % 10\n",
    "        output[count[digit] - 1] = nums[i]\n",
    "        count[digit] -= 1\n",
    "\n",
    "\n",
    "    for i in range(n):\n",
    "        nums[i] = output[i]\n",
    "\n",
    "\n",
    "nums1 = [3, 6, 9, 1]\n",
    "print(maximumGap(nums1))\n",
    "\n",
    "nums2 = [10]\n",
    "print(maximumGap(nums2))"
   ]
  },
  {
   "cell_type": "code",
   "execution_count": 5,
   "id": "5ff85635",
   "metadata": {},
   "outputs": [
    {
     "name": "stdout",
     "output_type": "stream",
     "text": [
      "True\n"
     ]
    }
   ],
   "source": [
    "\n",
    "class Clone:\n",
    "    def is_clone(self,nums):\n",
    "        nums.sort()\n",
    "        for i in range(len(nums)-1):\n",
    "            if nums[i]==nums[i+1]:\n",
    "                return True\n",
    "        return False\n",
    "\n",
    "\n",
    "obj4 = Clone()\n",
    "nums = [1,2,3,1]\n",
    "print(obj4.is_clone(nums))"
   ]
  },
  {
   "cell_type": "code",
   "execution_count": 6,
   "id": "03af965e",
   "metadata": {},
   "outputs": [
    {
     "name": "stdout",
     "output_type": "stream",
     "text": [
      "2\n"
     ]
    }
   ],
   "source": [
    "\n",
    "class Burst_Balloons:\n",
    "    def find_arrows(self,s):\n",
    "        s.sort(key = lambda i: i[1])\n",
    "        k = 1\n",
    "        aim = s.pop(0)[1]\n",
    "\n",
    "        for i in s:\n",
    "            if i[0] > aim:\n",
    "                aim = i[1]\n",
    "                k += 1\n",
    "        return k\n",
    "\n",
    "\n",
    "obj5 = Burst_Balloons()\n",
    "s = [[10,16],[2,8],[1,6],[7,12]]\n",
    "print(obj5.find_arrows(s))\n"
   ]
  },
  {
   "cell_type": "code",
   "execution_count": 8,
   "id": "96f20960",
   "metadata": {},
   "outputs": [
    {
     "name": "stdout",
     "output_type": "stream",
     "text": [
      "4\n"
     ]
    }
   ],
   "source": [
    "\n",
    "class Longest_Ss:\n",
    "    def long_Ss(self,nums):\n",
    "        S = [1] * len(nums)\n",
    "\n",
    "        for i in range(len(nums)-1, -1, -1):\n",
    "            for j in range(i+1, len(nums)):\n",
    "                if nums[i] < nums[j]:\n",
    "                    S[i] = max(S[i],1+S[j])\n",
    "        return max(S)\n",
    "\n",
    "\n",
    "obj6 = Longest_Ss()\n",
    "nums = [10,9,2,5,3,7,101,18]\n",
    "print(obj6.long_Ss(nums))"
   ]
  },
  {
   "cell_type": "code",
   "execution_count": 9,
   "id": "25a88520",
   "metadata": {},
   "outputs": [
    {
     "name": "stdout",
     "output_type": "stream",
     "text": [
      "False\n"
     ]
    }
   ],
   "source": [
    "\n",
    "def find132pattern(nums):\n",
    "    stack = []\n",
    "    second_max = float('-inf')\n",
    "\n",
    "    for i in range(len(nums)-1, -1, -1):\n",
    "        if nums[i] < second_max:\n",
    "            return True\n",
    "\n",
    "        while stack and nums[i] > stack[-1]:\n",
    "            second_max = max(second_max, stack.pop())\n",
    "\n",
    "        stack.append(nums[i])\n",
    "\n",
    "    return False\n",
    "\n",
    "\n",
    "nums = [1, 2, 3, 4]\n",
    "print(find132pattern(nums))"
   ]
  },
  {
   "cell_type": "code",
   "execution_count": null,
   "id": "cb15d9f4",
   "metadata": {},
   "outputs": [],
   "source": []
  }
 ],
 "metadata": {
  "kernelspec": {
   "display_name": "Python 3 (ipykernel)",
   "language": "python",
   "name": "python3"
  },
  "language_info": {
   "codemirror_mode": {
    "name": "ipython",
    "version": 3
   },
   "file_extension": ".py",
   "mimetype": "text/x-python",
   "name": "python",
   "nbconvert_exporter": "python",
   "pygments_lexer": "ipython3",
   "version": "3.11.0"
  }
 },
 "nbformat": 4,
 "nbformat_minor": 5
}
